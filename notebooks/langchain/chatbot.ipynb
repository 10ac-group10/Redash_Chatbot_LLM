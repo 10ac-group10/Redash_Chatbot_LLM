{
 "cells": [
  {
   "cell_type": "code",
   "outputs": [
    {
     "name": "stdout",
     "output_type": "stream",
     "text": [
      "Requirement already satisfied: langchain_openai in /home/hilla/code/10Academy-training/week3/redash_chatbot_LLM/.venv/lib/python3.10/site-packages (0.1.6)\r\n",
      "Requirement already satisfied: langchain-core<0.2.0,>=0.1.46 in /home/hilla/code/10Academy-training/week3/redash_chatbot_LLM/.venv/lib/python3.10/site-packages (from langchain_openai) (0.1.52)\r\n",
      "Collecting openai<2.0.0,>=1.24.0 (from langchain_openai)\r\n",
      "  Using cached openai-1.28.0-py3-none-any.whl.metadata (21 kB)\r\n",
      "Requirement already satisfied: tiktoken<1,>=0.5.2 in /home/hilla/code/10Academy-training/week3/redash_chatbot_LLM/.venv/lib/python3.10/site-packages (from langchain_openai) (0.6.0)\r\n",
      "Requirement already satisfied: PyYAML>=5.3 in /home/hilla/code/10Academy-training/week3/redash_chatbot_LLM/.venv/lib/python3.10/site-packages (from langchain-core<0.2.0,>=0.1.46->langchain_openai) (6.0.1)\r\n",
      "Requirement already satisfied: jsonpatch<2.0,>=1.33 in /home/hilla/code/10Academy-training/week3/redash_chatbot_LLM/.venv/lib/python3.10/site-packages (from langchain-core<0.2.0,>=0.1.46->langchain_openai) (1.33)\r\n",
      "Requirement already satisfied: langsmith<0.2.0,>=0.1.0 in /home/hilla/code/10Academy-training/week3/redash_chatbot_LLM/.venv/lib/python3.10/site-packages (from langchain-core<0.2.0,>=0.1.46->langchain_openai) (0.1.56)\r\n",
      "Requirement already satisfied: packaging<24.0,>=23.2 in /home/hilla/code/10Academy-training/week3/redash_chatbot_LLM/.venv/lib/python3.10/site-packages (from langchain-core<0.2.0,>=0.1.46->langchain_openai) (23.2)\r\n",
      "Requirement already satisfied: pydantic<3,>=1 in /home/hilla/code/10Academy-training/week3/redash_chatbot_LLM/.venv/lib/python3.10/site-packages (from langchain-core<0.2.0,>=0.1.46->langchain_openai) (2.7.1)\r\n",
      "Requirement already satisfied: tenacity<9.0.0,>=8.1.0 in /home/hilla/code/10Academy-training/week3/redash_chatbot_LLM/.venv/lib/python3.10/site-packages (from langchain-core<0.2.0,>=0.1.46->langchain_openai) (8.3.0)\r\n",
      "Requirement already satisfied: anyio<5,>=3.5.0 in /home/hilla/code/10Academy-training/week3/redash_chatbot_LLM/.venv/lib/python3.10/site-packages (from openai<2.0.0,>=1.24.0->langchain_openai) (4.2.0)\r\n",
      "Requirement already satisfied: distro<2,>=1.7.0 in /home/hilla/code/10Academy-training/week3/redash_chatbot_LLM/.venv/lib/python3.10/site-packages (from openai<2.0.0,>=1.24.0->langchain_openai) (1.9.0)\r\n",
      "Requirement already satisfied: httpx<1,>=0.23.0 in /home/hilla/code/10Academy-training/week3/redash_chatbot_LLM/.venv/lib/python3.10/site-packages (from openai<2.0.0,>=1.24.0->langchain_openai) (0.27.0)\r\n",
      "Requirement already satisfied: sniffio in /home/hilla/code/10Academy-training/week3/redash_chatbot_LLM/.venv/lib/python3.10/site-packages (from openai<2.0.0,>=1.24.0->langchain_openai) (1.3.0)\r\n",
      "Requirement already satisfied: tqdm>4 in /home/hilla/code/10Academy-training/week3/redash_chatbot_LLM/.venv/lib/python3.10/site-packages (from openai<2.0.0,>=1.24.0->langchain_openai) (4.66.4)\r\n",
      "Requirement already satisfied: typing-extensions<5,>=4.7 in /home/hilla/code/10Academy-training/week3/redash_chatbot_LLM/.venv/lib/python3.10/site-packages (from openai<2.0.0,>=1.24.0->langchain_openai) (4.9.0)\r\n",
      "Requirement already satisfied: regex>=2022.1.18 in /home/hilla/code/10Academy-training/week3/redash_chatbot_LLM/.venv/lib/python3.10/site-packages (from tiktoken<1,>=0.5.2->langchain_openai) (2023.8.8)\r\n",
      "Requirement already satisfied: requests>=2.26.0 in /home/hilla/code/10Academy-training/week3/redash_chatbot_LLM/.venv/lib/python3.10/site-packages (from tiktoken<1,>=0.5.2->langchain_openai) (2.31.0)\r\n",
      "Requirement already satisfied: idna>=2.8 in /home/hilla/code/10Academy-training/week3/redash_chatbot_LLM/.venv/lib/python3.10/site-packages (from anyio<5,>=3.5.0->openai<2.0.0,>=1.24.0->langchain_openai) (3.7)\r\n",
      "Requirement already satisfied: exceptiongroup>=1.0.2 in /home/hilla/code/10Academy-training/week3/redash_chatbot_LLM/.venv/lib/python3.10/site-packages (from anyio<5,>=3.5.0->openai<2.0.0,>=1.24.0->langchain_openai) (1.2.0)\r\n",
      "Requirement already satisfied: certifi in /home/hilla/code/10Academy-training/week3/redash_chatbot_LLM/.venv/lib/python3.10/site-packages (from httpx<1,>=0.23.0->openai<2.0.0,>=1.24.0->langchain_openai) (2023.11.17)\r\n",
      "Requirement already satisfied: httpcore==1.* in /home/hilla/code/10Academy-training/week3/redash_chatbot_LLM/.venv/lib/python3.10/site-packages (from httpx<1,>=0.23.0->openai<2.0.0,>=1.24.0->langchain_openai) (1.0.5)\r\n",
      "Requirement already satisfied: h11<0.15,>=0.13 in /home/hilla/code/10Academy-training/week3/redash_chatbot_LLM/.venv/lib/python3.10/site-packages (from httpcore==1.*->httpx<1,>=0.23.0->openai<2.0.0,>=1.24.0->langchain_openai) (0.14.0)\r\n",
      "Requirement already satisfied: jsonpointer>=1.9 in /home/hilla/code/10Academy-training/week3/redash_chatbot_LLM/.venv/lib/python3.10/site-packages (from jsonpatch<2.0,>=1.33->langchain-core<0.2.0,>=0.1.46->langchain_openai) (2.4)\r\n",
      "Requirement already satisfied: orjson<4.0.0,>=3.9.14 in /home/hilla/code/10Academy-training/week3/redash_chatbot_LLM/.venv/lib/python3.10/site-packages (from langsmith<0.2.0,>=0.1.0->langchain-core<0.2.0,>=0.1.46->langchain_openai) (3.10.3)\r\n",
      "Requirement already satisfied: annotated-types>=0.4.0 in /home/hilla/code/10Academy-training/week3/redash_chatbot_LLM/.venv/lib/python3.10/site-packages (from pydantic<3,>=1->langchain-core<0.2.0,>=0.1.46->langchain_openai) (0.6.0)\r\n",
      "Requirement already satisfied: pydantic-core==2.18.2 in /home/hilla/code/10Academy-training/week3/redash_chatbot_LLM/.venv/lib/python3.10/site-packages (from pydantic<3,>=1->langchain-core<0.2.0,>=0.1.46->langchain_openai) (2.18.2)\r\n",
      "Requirement already satisfied: charset-normalizer<4,>=2 in /home/hilla/code/10Academy-training/week3/redash_chatbot_LLM/.venv/lib/python3.10/site-packages (from requests>=2.26.0->tiktoken<1,>=0.5.2->langchain_openai) (3.3.2)\r\n",
      "Requirement already satisfied: urllib3<3,>=1.21.1 in /home/hilla/code/10Academy-training/week3/redash_chatbot_LLM/.venv/lib/python3.10/site-packages (from requests>=2.26.0->tiktoken<1,>=0.5.2->langchain_openai) (1.26.18)\r\n",
      "Using cached openai-1.28.0-py3-none-any.whl (320 kB)\r\n",
      "Installing collected packages: openai\r\n",
      "  Attempting uninstall: openai\r\n",
      "    Found existing installation: openai 0.28.0\r\n",
      "    Uninstalling openai-0.28.0:\r\n",
      "      Successfully uninstalled openai-0.28.0\r\n",
      "Successfully installed openai-1.28.0\r\n"
     ]
    }
   ],
   "source": [
    "!pip install langchain_openai"
   ],
   "metadata": {
    "collapsed": false,
    "ExecuteTime": {
     "end_time": "2024-05-10T07:07:41.297799Z",
     "start_time": "2024-05-10T07:07:38.352562Z"
    }
   },
   "id": "e85f55546a78d40f",
   "execution_count": 5
  },
  {
   "cell_type": "code",
   "execution_count": 6,
   "id": "initial_id",
   "metadata": {
    "collapsed": true,
    "ExecuteTime": {
     "end_time": "2024-05-10T07:07:42.608248Z",
     "start_time": "2024-05-10T07:07:42.602729Z"
    }
   },
   "outputs": [
    {
     "data": {
      "text/plain": "True"
     },
     "execution_count": 6,
     "metadata": {},
     "output_type": "execute_result"
    }
   ],
   "source": [
    "from langchain_openai import ChatOpenAI\n",
    "import os\n",
    "from dotenv import load_dotenv\n",
    "\n",
    "load_dotenv()"
   ]
  },
  {
   "cell_type": "code",
   "outputs": [],
   "source": [
    "model = \"gpt-3.5-turbo\"\n",
    "api_key = os.environ.get(\"OPENAI_API_KEY\")"
   ],
   "metadata": {
    "collapsed": false,
    "ExecuteTime": {
     "end_time": "2024-05-10T07:07:43.063095Z",
     "start_time": "2024-05-10T07:07:43.060214Z"
    }
   },
   "id": "b09835bcb0c8617b",
   "execution_count": 7
  },
  {
   "cell_type": "code",
   "outputs": [
    {
     "ename": "AttributeError",
     "evalue": "module 'openai' has no attribute 'OpenAI'",
     "output_type": "error",
     "traceback": [
      "\u001B[0;31m---------------------------------------------------------------------------\u001B[0m",
      "\u001B[0;31mAttributeError\u001B[0m                            Traceback (most recent call last)",
      "Cell \u001B[0;32mIn[8], line 2\u001B[0m\n\u001B[1;32m      1\u001B[0m \u001B[38;5;66;03m# Initialize the chatbot\u001B[39;00m\n\u001B[0;32m----> 2\u001B[0m chat \u001B[38;5;241m=\u001B[39m \u001B[43mChatOpenAI\u001B[49m\u001B[43m(\u001B[49m\u001B[43mmodel\u001B[49m\u001B[38;5;241;43m=\u001B[39;49m\u001B[43mmodel\u001B[49m\u001B[43m,\u001B[49m\u001B[43m \u001B[49m\u001B[43mapi_key\u001B[49m\u001B[38;5;241;43m=\u001B[39;49m\u001B[43mapi_key\u001B[49m\u001B[43m,\u001B[49m\u001B[43m \u001B[49m\u001B[43mtemperature\u001B[49m\u001B[38;5;241;43m=\u001B[39;49m\u001B[38;5;241;43m0.2\u001B[39;49m\u001B[43m)\u001B[49m\n",
      "File \u001B[0;32m~/code/10Academy-training/week3/redash_chatbot_LLM/.venv/lib/python3.10/site-packages/pydantic/v1/main.py:339\u001B[0m, in \u001B[0;36mBaseModel.__init__\u001B[0;34m(__pydantic_self__, **data)\u001B[0m\n\u001B[1;32m    333\u001B[0m \u001B[38;5;250m\u001B[39m\u001B[38;5;124;03m\"\"\"\u001B[39;00m\n\u001B[1;32m    334\u001B[0m \u001B[38;5;124;03mCreate a new model by parsing and validating input data from keyword arguments.\u001B[39;00m\n\u001B[1;32m    335\u001B[0m \n\u001B[1;32m    336\u001B[0m \u001B[38;5;124;03mRaises ValidationError if the input data cannot be parsed to form a valid model.\u001B[39;00m\n\u001B[1;32m    337\u001B[0m \u001B[38;5;124;03m\"\"\"\u001B[39;00m\n\u001B[1;32m    338\u001B[0m \u001B[38;5;66;03m# Uses something other than `self` the first arg to allow \"self\" as a settable attribute\u001B[39;00m\n\u001B[0;32m--> 339\u001B[0m values, fields_set, validation_error \u001B[38;5;241m=\u001B[39m \u001B[43mvalidate_model\u001B[49m\u001B[43m(\u001B[49m\u001B[43m__pydantic_self__\u001B[49m\u001B[38;5;241;43m.\u001B[39;49m\u001B[38;5;18;43m__class__\u001B[39;49m\u001B[43m,\u001B[49m\u001B[43m \u001B[49m\u001B[43mdata\u001B[49m\u001B[43m)\u001B[49m\n\u001B[1;32m    340\u001B[0m \u001B[38;5;28;01mif\u001B[39;00m validation_error:\n\u001B[1;32m    341\u001B[0m     \u001B[38;5;28;01mraise\u001B[39;00m validation_error\n",
      "File \u001B[0;32m~/code/10Academy-training/week3/redash_chatbot_LLM/.venv/lib/python3.10/site-packages/pydantic/v1/main.py:1100\u001B[0m, in \u001B[0;36mvalidate_model\u001B[0;34m(model, input_data, cls)\u001B[0m\n\u001B[1;32m   1098\u001B[0m     \u001B[38;5;28;01mcontinue\u001B[39;00m\n\u001B[1;32m   1099\u001B[0m \u001B[38;5;28;01mtry\u001B[39;00m:\n\u001B[0;32m-> 1100\u001B[0m     values \u001B[38;5;241m=\u001B[39m \u001B[43mvalidator\u001B[49m\u001B[43m(\u001B[49m\u001B[43mcls_\u001B[49m\u001B[43m,\u001B[49m\u001B[43m \u001B[49m\u001B[43mvalues\u001B[49m\u001B[43m)\u001B[49m\n\u001B[1;32m   1101\u001B[0m \u001B[38;5;28;01mexcept\u001B[39;00m (\u001B[38;5;167;01mValueError\u001B[39;00m, \u001B[38;5;167;01mTypeError\u001B[39;00m, \u001B[38;5;167;01mAssertionError\u001B[39;00m) \u001B[38;5;28;01mas\u001B[39;00m exc:\n\u001B[1;32m   1102\u001B[0m     errors\u001B[38;5;241m.\u001B[39mappend(ErrorWrapper(exc, loc\u001B[38;5;241m=\u001B[39mROOT_KEY))\n",
      "File \u001B[0;32m~/code/10Academy-training/week3/redash_chatbot_LLM/.venv/lib/python3.10/site-packages/langchain_openai/chat_models/base.py:415\u001B[0m, in \u001B[0;36mBaseChatOpenAI.validate_environment\u001B[0;34m(cls, values)\u001B[0m\n\u001B[1;32m    413\u001B[0m         values[\u001B[38;5;124m\"\u001B[39m\u001B[38;5;124mhttp_client\u001B[39m\u001B[38;5;124m\"\u001B[39m] \u001B[38;5;241m=\u001B[39m httpx\u001B[38;5;241m.\u001B[39mClient(proxy\u001B[38;5;241m=\u001B[39mopenai_proxy)\n\u001B[1;32m    414\u001B[0m     sync_specific \u001B[38;5;241m=\u001B[39m {\u001B[38;5;124m\"\u001B[39m\u001B[38;5;124mhttp_client\u001B[39m\u001B[38;5;124m\"\u001B[39m: values[\u001B[38;5;124m\"\u001B[39m\u001B[38;5;124mhttp_client\u001B[39m\u001B[38;5;124m\"\u001B[39m]}\n\u001B[0;32m--> 415\u001B[0m     values[\u001B[38;5;124m\"\u001B[39m\u001B[38;5;124mclient\u001B[39m\u001B[38;5;124m\"\u001B[39m] \u001B[38;5;241m=\u001B[39m \u001B[43mopenai\u001B[49m\u001B[38;5;241;43m.\u001B[39;49m\u001B[43mOpenAI\u001B[49m(\n\u001B[1;32m    416\u001B[0m         \u001B[38;5;241m*\u001B[39m\u001B[38;5;241m*\u001B[39mclient_params, \u001B[38;5;241m*\u001B[39m\u001B[38;5;241m*\u001B[39msync_specific\n\u001B[1;32m    417\u001B[0m     )\u001B[38;5;241m.\u001B[39mchat\u001B[38;5;241m.\u001B[39mcompletions\n\u001B[1;32m    418\u001B[0m \u001B[38;5;28;01mif\u001B[39;00m \u001B[38;5;129;01mnot\u001B[39;00m values\u001B[38;5;241m.\u001B[39mget(\u001B[38;5;124m\"\u001B[39m\u001B[38;5;124masync_client\u001B[39m\u001B[38;5;124m\"\u001B[39m):\n\u001B[1;32m    419\u001B[0m     \u001B[38;5;28;01mif\u001B[39;00m openai_proxy \u001B[38;5;129;01mand\u001B[39;00m \u001B[38;5;129;01mnot\u001B[39;00m values[\u001B[38;5;124m\"\u001B[39m\u001B[38;5;124mhttp_async_client\u001B[39m\u001B[38;5;124m\"\u001B[39m]:\n",
      "\u001B[0;31mAttributeError\u001B[0m: module 'openai' has no attribute 'OpenAI'"
     ]
    }
   ],
   "source": [
    "# Initialize the chatbot\n",
    "chat = ChatOpenAI(model=model, api_key=api_key, temperature=0.2)"
   ],
   "metadata": {
    "collapsed": false,
    "ExecuteTime": {
     "end_time": "2024-05-10T07:07:43.695354Z",
     "start_time": "2024-05-10T07:07:43.636403Z"
    }
   },
   "id": "e0ed68d1c2ae5520",
   "execution_count": 8
  },
  {
   "cell_type": "markdown",
   "source": [
    "# Chatbot with memory"
   ],
   "metadata": {
    "collapsed": false
   },
   "id": "98e3fd36b53c162"
  },
  {
   "cell_type": "code",
   "outputs": [],
   "source": [
    "# Invoke the chatbot\n",
    "from langchain_core.messages import HumanMessage\n",
    "\n",
    "chat.invoke(\n",
    "    [\n",
    "        HumanMessage(\n",
    "            content=\"Translate this text to French: Hello, do you feel good?\"\n",
    "        )\n",
    "    ]\n",
    ")"
   ],
   "metadata": {
    "collapsed": false
   },
   "id": "243a7ffeeb289419",
   "execution_count": null
  },
  {
   "cell_type": "markdown",
   "source": [
    "### Explanation of the output\n",
    "- The content is the answer to the question.\n",
    "- The finish reason is the reason why the conversation ended. In this case, the conversation ended because the chatbot finished responding to the question."
   ],
   "metadata": {
    "collapsed": false
   },
   "id": "6e8954c23d9e2052"
  },
  {
   "cell_type": "code",
   "outputs": [],
   "source": [
    "# no state/memory => no follow-up question and hence not conversation\n",
    "from langchain_core.messages import AIMessage\n",
    "\n",
    "chat.invoke(\n",
    "    [\n",
    "        HumanMessage(\n",
    "            content=\"What did you just say?\"\n",
    "        ),\n",
    "    ]\n",
    ")"
   ],
   "metadata": {
    "collapsed": false
   },
   "id": "81ed9c4c1f74b4c9",
   "execution_count": null
  },
  {
   "cell_type": "code",
   "outputs": [],
   "source": [
    "#provide the history\n",
    "from langchain_core.messages import AIMessage\n",
    "\n",
    "chat.invoke(\n",
    "    [\n",
    "        HumanMessage(\n",
    "            content=\"Translate this text to French: Hello, do you feel good?\"\n",
    "        ),\n",
    "        AIMessage(\n",
    "            content=\"Bonjour, tu te sens bien?\",\n",
    "        ),\n",
    "        HumanMessage(\n",
    "            content=\"What did you just say?\"\n",
    "        )\n",
    "    ]\n",
    ")"
   ],
   "metadata": {
    "collapsed": false
   },
   "id": "b1f46fdad7391f6a",
   "execution_count": null
  },
  {
   "cell_type": "code",
   "outputs": [],
   "source": [],
   "metadata": {
    "collapsed": false
   },
   "id": "a3ba8dddbc072e10",
   "execution_count": null
  }
 ],
 "metadata": {
  "kernelspec": {
   "display_name": "Python 3",
   "language": "python",
   "name": "python3"
  },
  "language_info": {
   "codemirror_mode": {
    "name": "ipython",
    "version": 2
   },
   "file_extension": ".py",
   "mimetype": "text/x-python",
   "name": "python",
   "nbconvert_exporter": "python",
   "pygments_lexer": "ipython2",
   "version": "2.7.6"
  }
 },
 "nbformat": 4,
 "nbformat_minor": 5
}
