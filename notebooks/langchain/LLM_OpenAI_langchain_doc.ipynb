{
 "cells": [
  {
   "cell_type": "markdown",
   "source": [
    "# Using LLM LangChain Example from the official documentation\n",
    "https://python.langchain.com/v0.1/docs/integrations/llms/openai/\n",
    "\n",
    "The difference between this code and the one for ChatGPT completion is that the latter directly uses the openai.Completion.create() function to interact with the OpenAI API, while the former uses the LangChain library to create a chain of language models and interact with the API. The LangChain library provides a more flexible and modular way to build and use language models. It allows you to easily chain together different language models and use them as a single model. This can be useful if you want to use multiple language models in your application or if you want to switch between different language models."
   ],
   "metadata": {
    "collapsed": false
   },
   "id": "4167ba0e214b0b5f"
  },
  {
   "cell_type": "code",
   "execution_count": 18,
   "id": "initial_id",
   "metadata": {
    "collapsed": true,
    "ExecuteTime": {
     "end_time": "2024-05-10T07:39:16.460087Z",
     "start_time": "2024-05-10T07:39:16.454410Z"
    }
   },
   "outputs": [
    {
     "data": {
      "text/plain": "True"
     },
     "execution_count": 18,
     "metadata": {},
     "output_type": "execute_result"
    }
   ],
   "source": [
    "from langchain_openai import OpenAI\n",
    "from langchain_core.prompts import PromptTemplate\n",
    "import os\n",
    "from dotenv import load_dotenv\n",
    "\n",
    "load_dotenv()"
   ]
  },
  {
   "cell_type": "code",
   "outputs": [],
   "source": [
    "model = \"gpt-3.5-turbo\"\n",
    "api_key = os.environ.get(\"OPENAI_API_KEY\")"
   ],
   "metadata": {
    "collapsed": false,
    "ExecuteTime": {
     "end_time": "2024-05-10T07:39:16.609686Z",
     "start_time": "2024-05-10T07:39:16.606897Z"
    }
   },
   "id": "caf28bc886be879c",
   "execution_count": 19
  },
  {
   "cell_type": "markdown",
   "source": [
    "A PromptTemplate is also created from a template string. This template is used to format the input to the OpenAI API. The"
   ],
   "metadata": {
    "collapsed": false
   },
   "id": "ddc1c2ab7683a295"
  },
  {
   "cell_type": "markdown",
   "source": [],
   "metadata": {
    "collapsed": false
   },
   "id": "bf1699a6d867f9bc"
  },
  {
   "cell_type": "code",
   "outputs": [],
   "source": [
    "template = \"\"\"Question: {question}\n",
    "Answer: Let's think step by step.\n",
    "\"\"\"\n",
    "\n",
    "prompt = PromptTemplate.from_template(template)"
   ],
   "metadata": {
    "collapsed": false,
    "ExecuteTime": {
     "end_time": "2024-05-10T07:13:07.470407Z",
     "start_time": "2024-05-10T07:13:07.467563Z"
    }
   },
   "id": "44561f4b7e191be9",
   "execution_count": 10
  },
  {
   "cell_type": "code",
   "outputs": [],
   "source": [
    "llm = OpenAI()"
   ],
   "metadata": {
    "collapsed": false,
    "ExecuteTime": {
     "end_time": "2024-05-10T07:13:07.890231Z",
     "start_time": "2024-05-10T07:13:07.799956Z"
    }
   },
   "id": "2f11b7b78c595b7e",
   "execution_count": 11
  },
  {
   "cell_type": "code",
   "outputs": [],
   "source": [
    "llm = OpenAI(openai_api_key=api_key)"
   ],
   "metadata": {
    "collapsed": false,
    "ExecuteTime": {
     "end_time": "2024-05-10T07:13:38.703475Z",
     "start_time": "2024-05-10T07:13:38.622426Z"
    }
   },
   "id": "529f13c2b3d6548f",
   "execution_count": 12
  },
  {
   "cell_type": "markdown",
   "source": [
    "PromptTemplate and the OpenAI instance are then chained together using the | operator to create a llm_chain. This chain can be invoked with a question to get a response from the OpenAI API."
   ],
   "metadata": {
    "collapsed": false
   },
   "id": "8d0a992b672a2ef2"
  },
  {
   "cell_type": "code",
   "outputs": [],
   "source": [
    "llm_chain = prompt | llm"
   ],
   "metadata": {
    "collapsed": false,
    "ExecuteTime": {
     "end_time": "2024-05-10T07:13:58.092538Z",
     "start_time": "2024-05-10T07:13:58.089931Z"
    }
   },
   "id": "c7b18a6c70ba7654",
   "execution_count": 14
  },
  {
   "cell_type": "code",
   "outputs": [],
   "source": [
    "question = \"What NFL team won the Super Bowl in the year Justin Bieber was born?\""
   ],
   "metadata": {
    "collapsed": false,
    "ExecuteTime": {
     "end_time": "2024-05-10T07:14:23.069265Z",
     "start_time": "2024-05-10T07:14:23.066833Z"
    }
   },
   "id": "71ecc0276d13ffda",
   "execution_count": 15
  },
  {
   "cell_type": "code",
   "outputs": [
    {
     "data": {
      "text/plain": "'1) Justin Bieber was born on March 1, 1994.\\n2) The Super Bowl is usually held in early February, so we need to look at the Super Bowl that took place in 1994.\\n3) The 1994 Super Bowl was Super Bowl XXVIII.\\n4) The winner of Super Bowl XXVIII was the Dallas Cowboys.\\nTherefore, the Dallas Cowboys won the Super Bowl in the year Justin Bieber was born.'"
     },
     "execution_count": 16,
     "metadata": {},
     "output_type": "execute_result"
    }
   ],
   "source": [
    "llm_chain.invoke(question)"
   ],
   "metadata": {
    "collapsed": false,
    "ExecuteTime": {
     "end_time": "2024-05-10T07:14:40.623887Z",
     "start_time": "2024-05-10T07:14:38.175862Z"
    }
   },
   "id": "cc9b36c4e96e4adf",
   "execution_count": 16
  },
  {
   "cell_type": "code",
   "outputs": [],
   "source": [],
   "metadata": {
    "collapsed": false
   },
   "id": "f68b680356c90a1c"
  }
 ],
 "metadata": {
  "kernelspec": {
   "display_name": "Python 3",
   "language": "python",
   "name": "python3"
  },
  "language_info": {
   "codemirror_mode": {
    "name": "ipython",
    "version": 2
   },
   "file_extension": ".py",
   "mimetype": "text/x-python",
   "name": "python",
   "nbconvert_exporter": "python",
   "pygments_lexer": "ipython2",
   "version": "2.7.6"
  }
 },
 "nbformat": 4,
 "nbformat_minor": 5
}
