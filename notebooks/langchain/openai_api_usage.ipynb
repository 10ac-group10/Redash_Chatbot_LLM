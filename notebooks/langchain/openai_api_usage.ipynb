{
 "cells": [
  {
   "cell_type": "code",
   "outputs": [
    {
     "name": "stdout",
     "output_type": "stream",
     "text": [
      "Requirement already satisfied: openai==0.28 in /home/hilla/code/10Academy-training/week3/redash_chatbot_LLM/.venv/lib/python3.10/site-packages (0.28.0)\r\n",
      "Requirement already satisfied: requests>=2.20 in /home/hilla/code/10Academy-training/week3/redash_chatbot_LLM/.venv/lib/python3.10/site-packages (from openai==0.28) (2.31.0)\r\n",
      "Requirement already satisfied: tqdm in /home/hilla/code/10Academy-training/week3/redash_chatbot_LLM/.venv/lib/python3.10/site-packages (from openai==0.28) (4.66.4)\r\n",
      "Requirement already satisfied: aiohttp in /home/hilla/code/10Academy-training/week3/redash_chatbot_LLM/.venv/lib/python3.10/site-packages (from openai==0.28) (3.9.5)\r\n",
      "Requirement already satisfied: charset-normalizer<4,>=2 in /home/hilla/code/10Academy-training/week3/redash_chatbot_LLM/.venv/lib/python3.10/site-packages (from requests>=2.20->openai==0.28) (3.3.2)\r\n",
      "Requirement already satisfied: idna<4,>=2.5 in /home/hilla/code/10Academy-training/week3/redash_chatbot_LLM/.venv/lib/python3.10/site-packages (from requests>=2.20->openai==0.28) (3.7)\r\n",
      "Requirement already satisfied: urllib3<3,>=1.21.1 in /home/hilla/code/10Academy-training/week3/redash_chatbot_LLM/.venv/lib/python3.10/site-packages (from requests>=2.20->openai==0.28) (1.26.18)\r\n",
      "Requirement already satisfied: certifi>=2017.4.17 in /home/hilla/code/10Academy-training/week3/redash_chatbot_LLM/.venv/lib/python3.10/site-packages (from requests>=2.20->openai==0.28) (2023.11.17)\r\n",
      "Requirement already satisfied: aiosignal>=1.1.2 in /home/hilla/code/10Academy-training/week3/redash_chatbot_LLM/.venv/lib/python3.10/site-packages (from aiohttp->openai==0.28) (1.3.1)\r\n",
      "Requirement already satisfied: attrs>=17.3.0 in /home/hilla/code/10Academy-training/week3/redash_chatbot_LLM/.venv/lib/python3.10/site-packages (from aiohttp->openai==0.28) (23.2.0)\r\n",
      "Requirement already satisfied: frozenlist>=1.1.1 in /home/hilla/code/10Academy-training/week3/redash_chatbot_LLM/.venv/lib/python3.10/site-packages (from aiohttp->openai==0.28) (1.4.1)\r\n",
      "Requirement already satisfied: multidict<7.0,>=4.5 in /home/hilla/code/10Academy-training/week3/redash_chatbot_LLM/.venv/lib/python3.10/site-packages (from aiohttp->openai==0.28) (6.0.5)\r\n",
      "Requirement already satisfied: yarl<2.0,>=1.0 in /home/hilla/code/10Academy-training/week3/redash_chatbot_LLM/.venv/lib/python3.10/site-packages (from aiohttp->openai==0.28) (1.9.4)\r\n",
      "Requirement already satisfied: async-timeout<5.0,>=4.0 in /home/hilla/code/10Academy-training/week3/redash_chatbot_LLM/.venv/lib/python3.10/site-packages (from aiohttp->openai==0.28) (4.0.3)\r\n"
     ]
    }
   ],
   "source": [
    "!pip install openai==0.28"
   ],
   "metadata": {
    "collapsed": false,
    "ExecuteTime": {
     "end_time": "2024-05-10T06:46:10.674105Z",
     "start_time": "2024-05-10T06:46:07.254832Z"
    }
   },
   "id": "1aaf96ae145dba",
   "execution_count": 19
  },
  {
   "cell_type": "code",
   "execution_count": 20,
   "id": "initial_id",
   "metadata": {
    "collapsed": true,
    "ExecuteTime": {
     "end_time": "2024-05-10T06:46:10.679690Z",
     "start_time": "2024-05-10T06:46:10.675622Z"
    }
   },
   "outputs": [],
   "source": [
    "import openai\n",
    "import os\n",
    "from dotenv import load_dotenv\n",
    "\n",
    "# Load the environment variables from the .env file\n",
    "load_dotenv()\n",
    "\n",
    "openai.api_key = os.environ.get(\"OPENAI_API_KEY\")\n",
    "\n",
    "model_name=\"gpt-3.5-turbo\""
   ]
  },
  {
   "cell_type": "code",
   "outputs": [
    {
     "ename": "APIRemovedInV1",
     "evalue": "\n\nYou tried to access openai.ChatCompletion, but this is no longer supported in openai>=1.0.0 - see the README at https://github.com/openai/openai-python for the API.\n\nYou can run `openai migrate` to automatically upgrade your codebase to use the 1.0.0 interface. \n\nAlternatively, you can pin your installation to the old version, e.g. `pip install openai==0.28`\n\nA detailed migration guide is available here: https://github.com/openai/openai-python/discussions/742\n",
     "output_type": "error",
     "traceback": [
      "\u001B[0;31m---------------------------------------------------------------------------\u001B[0m",
      "\u001B[0;31mAPIRemovedInV1\u001B[0m                            Traceback (most recent call last)",
      "Cell \u001B[0;32mIn[21], line 1\u001B[0m\n\u001B[0;32m----> 1\u001B[0m response \u001B[38;5;241m=\u001B[39m \u001B[43mopenai\u001B[49m\u001B[38;5;241;43m.\u001B[39;49m\u001B[43mChatCompletion\u001B[49m\u001B[38;5;241;43m.\u001B[39;49m\u001B[43mcreate\u001B[49m\u001B[43m(\u001B[49m\n\u001B[1;32m      2\u001B[0m \u001B[43m  \u001B[49m\u001B[43mmodel\u001B[49m\u001B[38;5;241;43m=\u001B[39;49m\u001B[38;5;124;43m\"\u001B[39;49m\u001B[38;5;124;43mgpt-3.5-turbo\u001B[39;49m\u001B[38;5;124;43m\"\u001B[39;49m\u001B[43m,\u001B[49m\n\u001B[1;32m      3\u001B[0m \u001B[43m  \u001B[49m\u001B[43mmessages\u001B[49m\u001B[38;5;241;43m=\u001B[39;49m\u001B[43m[\u001B[49m\n\u001B[1;32m      4\u001B[0m \u001B[43m        \u001B[49m\u001B[43m{\u001B[49m\u001B[38;5;124;43m\"\u001B[39;49m\u001B[38;5;124;43mrole\u001B[39;49m\u001B[38;5;124;43m\"\u001B[39;49m\u001B[43m:\u001B[49m\u001B[43m \u001B[49m\u001B[38;5;124;43m\"\u001B[39;49m\u001B[38;5;124;43msystem\u001B[39;49m\u001B[38;5;124;43m\"\u001B[39;49m\u001B[43m,\u001B[49m\u001B[43m \u001B[49m\u001B[38;5;124;43m\"\u001B[39;49m\u001B[38;5;124;43mcontent\u001B[39;49m\u001B[38;5;124;43m\"\u001B[39;49m\u001B[43m:\u001B[49m\u001B[43m \u001B[49m\u001B[38;5;124;43m\"\u001B[39;49m\u001B[38;5;124;43mYou are a helpful assistant.\u001B[39;49m\u001B[38;5;124;43m\"\u001B[39;49m\u001B[43m}\u001B[49m\u001B[43m,\u001B[49m\n\u001B[1;32m      5\u001B[0m \u001B[43m        \u001B[49m\u001B[43m{\u001B[49m\u001B[38;5;124;43m\"\u001B[39;49m\u001B[38;5;124;43mrole\u001B[39;49m\u001B[38;5;124;43m\"\u001B[39;49m\u001B[43m:\u001B[49m\u001B[43m \u001B[49m\u001B[38;5;124;43m\"\u001B[39;49m\u001B[38;5;124;43muser\u001B[39;49m\u001B[38;5;124;43m\"\u001B[39;49m\u001B[43m,\u001B[49m\u001B[43m \u001B[49m\u001B[38;5;124;43m\"\u001B[39;49m\u001B[38;5;124;43mcontent\u001B[39;49m\u001B[38;5;124;43m\"\u001B[39;49m\u001B[43m:\u001B[49m\u001B[43m \u001B[49m\u001B[38;5;124;43m\"\u001B[39;49m\u001B[38;5;124;43mTranslate this English text to French: Hello, how are you?\u001B[39;49m\u001B[38;5;124;43m\"\u001B[39;49m\u001B[43m}\u001B[49m\u001B[43m,\u001B[49m\n\u001B[1;32m      6\u001B[0m \u001B[43m    \u001B[49m\u001B[43m]\u001B[49m\n\u001B[1;32m      7\u001B[0m \u001B[43m)\u001B[49m\n\u001B[1;32m      9\u001B[0m \u001B[38;5;28mprint\u001B[39m(response[\u001B[38;5;124m'\u001B[39m\u001B[38;5;124mchoices\u001B[39m\u001B[38;5;124m'\u001B[39m][\u001B[38;5;241m0\u001B[39m][\u001B[38;5;124m'\u001B[39m\u001B[38;5;124mmessage\u001B[39m\u001B[38;5;124m'\u001B[39m][\u001B[38;5;124m'\u001B[39m\u001B[38;5;124mcontent\u001B[39m\u001B[38;5;124m'\u001B[39m])\n",
      "File \u001B[0;32m~/code/10Academy-training/week3/redash_chatbot_LLM/.venv/lib/python3.10/site-packages/openai/lib/_old_api.py:39\u001B[0m, in \u001B[0;36mAPIRemovedInV1Proxy.__call__\u001B[0;34m(self, *_args, **_kwargs)\u001B[0m\n\u001B[1;32m     38\u001B[0m \u001B[38;5;28;01mdef\u001B[39;00m \u001B[38;5;21m__call__\u001B[39m(\u001B[38;5;28mself\u001B[39m, \u001B[38;5;241m*\u001B[39m_args: Any, \u001B[38;5;241m*\u001B[39m\u001B[38;5;241m*\u001B[39m_kwargs: Any) \u001B[38;5;241m-\u001B[39m\u001B[38;5;241m>\u001B[39m Any:\n\u001B[0;32m---> 39\u001B[0m     \u001B[38;5;28;01mraise\u001B[39;00m APIRemovedInV1(symbol\u001B[38;5;241m=\u001B[39m\u001B[38;5;28mself\u001B[39m\u001B[38;5;241m.\u001B[39m_symbol)\n",
      "\u001B[0;31mAPIRemovedInV1\u001B[0m: \n\nYou tried to access openai.ChatCompletion, but this is no longer supported in openai>=1.0.0 - see the README at https://github.com/openai/openai-python for the API.\n\nYou can run `openai migrate` to automatically upgrade your codebase to use the 1.0.0 interface. \n\nAlternatively, you can pin your installation to the old version, e.g. `pip install openai==0.28`\n\nA detailed migration guide is available here: https://github.com/openai/openai-python/discussions/742\n"
     ]
    }
   ],
   "source": [
    "response = openai.ChatCompletion.create(\n",
    "  model=\"gpt-3.5-turbo\",\n",
    "  messages=[\n",
    "        {\"role\": \"system\", \"content\": \"You are a helpful assistant.\"},\n",
    "        {\"role\": \"user\", \"content\": \"Translate this English text to French: Hello, how are you?\"},\n",
    "    ]\n",
    ")\n",
    "\n",
    "print(response['choices'][0]['message']['content'])"
   ],
   "metadata": {
    "collapsed": false,
    "ExecuteTime": {
     "end_time": "2024-05-10T06:46:10.701763Z",
     "start_time": "2024-05-10T06:46:10.680867Z"
    }
   },
   "id": "bc8f02407bbd1665",
   "execution_count": 21
  },
  {
   "cell_type": "code",
   "outputs": [],
   "source": [],
   "metadata": {
    "collapsed": false
   },
   "id": "b99afc80ce4aa80d"
  }
 ],
 "metadata": {
  "kernelspec": {
   "display_name": "Python 3",
   "language": "python",
   "name": "python3"
  },
  "language_info": {
   "codemirror_mode": {
    "name": "ipython",
    "version": 2
   },
   "file_extension": ".py",
   "mimetype": "text/x-python",
   "name": "python",
   "nbconvert_exporter": "python",
   "pygments_lexer": "ipython2",
   "version": "2.7.6"
  }
 },
 "nbformat": 4,
 "nbformat_minor": 5
}
