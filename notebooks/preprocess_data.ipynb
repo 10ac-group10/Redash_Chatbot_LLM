{
 "nbformat": 4,
 "nbformat_minor": 0,
 "metadata": {
  "colab": {
   "provenance": [],
   "mount_file_id": "1GTwEs5Vh-xj1EyB_vp_RGzuIYoquDZZW",
   "authorship_tag": "ABX9TyPcryRu5GAcj3gEzW1DuDdm",
   "include_colab_link": true
  },
  "kernelspec": {
   "name": "python3",
   "language": "python",
   "display_name": "Python 3 (ipykernel)"
  },
  "language_info": {
   "name": "python"
  }
 },
 "cells": [
  {
   "cell_type": "markdown",
   "metadata": {
    "id": "view-in-github",
    "colab_type": "text"
   },
   "source": [
    "<a href=\"https://colab.research.google.com/github/10ac-group10/Redash_Chatbot_LLM/blob/database/notebooks/data_understanding.ipynb\" target=\"_parent\"><img src=\"https://colab.research.google.com/assets/colab-badge.svg\" alt=\"Open In Colab\"/></a>"
   ]
  },
  {
   "cell_type": "code",
   "execution_count": 105,
   "metadata": {
    "id": "4vl53KnYz4AN",
    "ExecuteTime": {
     "end_time": "2024-05-09T10:25:14.941206Z",
     "start_time": "2024-05-09T10:25:14.938971Z"
    }
   },
   "outputs": [],
   "source": [
    "import pandas as pd\n",
    "import os"
   ]
  },
  {
   "cell_type": "markdown",
   "source": [],
   "metadata": {
    "collapsed": false
   }
  },
  {
   "cell_type": "code",
   "source": [
    "# prompt: fetch data from google drive\n",
    "def mount_drive():\n",
    "    from google.colab import drive\n",
    "    drive.mount('/content/drive', force_remount=True)"
   ],
   "metadata": {
    "colab": {
     "base_uri": "https://localhost:8080/"
    },
    "id": "kgpZWrOE1xtQ",
    "outputId": "9ca47df9-0a53-42e0-b299-c25005797eca",
    "ExecuteTime": {
     "end_time": "2024-05-09T10:25:14.964823Z",
     "start_time": "2024-05-09T10:25:14.962518Z"
    }
   },
   "execution_count": 106,
   "outputs": []
  },
  {
   "cell_type": "code",
   "outputs": [],
   "source": [],
   "metadata": {
    "collapsed": false,
    "ExecuteTime": {
     "end_time": "2024-05-09T10:25:14.986804Z",
     "start_time": "2024-05-09T10:25:14.985230Z"
    }
   },
   "execution_count": 106
  },
  {
   "cell_type": "markdown",
   "source": [
    "## Custom reusable functions "
   ],
   "metadata": {
    "id": "CFPCxPF-4FaQ"
   }
  },
  {
   "cell_type": "code",
   "source": [
    "# fetch data from google drive reusable function\n",
    "def fetch_data(data_folder_name, file_name, google_colab=False):\n",
    "    if google_colab:\n",
    "        mount_drive()\n",
    "        # Fetch data from google drive\n",
    "        df = pd.read_csv(f\"/content/drive/My Drive/10Academy/week3/data/{data_folder_name}/{file_name}.csv\")\n",
    "    else:\n",
    "        # Fetch data from local\n",
    "        df = pd.read_csv(f\"../data/{data_folder_name}/{file_name}.csv\")\n",
    "    return df"
   ],
   "metadata": {
    "id": "LOMC3M8p21nX",
    "ExecuteTime": {
     "end_time": "2024-05-09T10:25:14.990248Z",
     "start_time": "2024-05-09T10:25:14.987752Z"
    }
   },
   "execution_count": 107,
   "outputs": []
  },
  {
   "cell_type": "code",
   "source": [
    "def fetch_chart_data(data_folder_name):\n",
    "  return fetch_data(data_folder_name, 'Chart data')"
   ],
   "metadata": {
    "id": "J-CNOWn12e0P",
    "ExecuteTime": {
     "end_time": "2024-05-09T10:25:15.003775Z",
     "start_time": "2024-05-09T10:25:15.001485Z"
    }
   },
   "execution_count": 108,
   "outputs": []
  },
  {
   "cell_type": "markdown",
   "source": [
    "### Reusable code to generate dataframes and display unique values in teh csv files"
   ],
   "metadata": {
    "id": "bMN2kYhM6WzZ"
   }
  },
  {
   "cell_type": "code",
   "outputs": [],
   "source": [
    "def generate_dataframes(value_columns):\n",
    "    dataframes = {}\n",
    "    for name in value_columns.keys():\n",
    "        dataframes[name] = fetch_chart_data(name)\n",
    "    return dataframes"
   ],
   "metadata": {
    "collapsed": false,
    "ExecuteTime": {
     "end_time": "2024-05-09T10:25:15.007530Z",
     "start_time": "2024-05-09T10:25:15.005082Z"
    }
   },
   "execution_count": 109
  },
  {
   "cell_type": "markdown",
   "source": [
    "###### TODO - The subscription source needs further work, i'll ignore it for now"
   ],
   "metadata": {
    "collapsed": false
   }
  },
  {
   "cell_type": "code",
   "outputs": [],
   "source": [
    "value_columns = {'Cities': 'Views', 'Content type': 'Views', 'Device type': 'Views', 'Geography': 'Views', 'New and returning viewers': 'Views', 'Operating system': 'Views', 'Sharing service': 'Shares'}\n"
   ],
   "metadata": {
    "collapsed": false,
    "ExecuteTime": {
     "end_time": "2024-05-09T10:25:15.031169Z",
     "start_time": "2024-05-09T10:25:15.028828Z"
    }
   },
   "execution_count": 110
  },
  {
   "cell_type": "code",
   "outputs": [],
   "source": [
    "dataframes = generate_dataframes(value_columns)"
   ],
   "metadata": {
    "collapsed": false,
    "ExecuteTime": {
     "end_time": "2024-05-09T10:25:15.072958Z",
     "start_time": "2024-05-09T10:25:15.032722Z"
    }
   },
   "execution_count": 111
  },
  {
   "cell_type": "markdown",
   "source": [
    "# Conclusion from the results of the Device type, Cities and Content type data\n",
    "-  We have successfully reshaped the data from long format to wide format, grouping by 'Device type', 'City name' and 'Content type' and 'Date' in this case\n",
    "- We have also saved the reshaped data to a csv file\n",
    "- The next step is to explore the other csv files and repeat the same process\n",
    "- We will also explore the 'Geography', 'New and returning viewers', 'Operating system', 'Sharing service' and 'Subscription source' csv files\n",
    "\n",
    "# Next steps:\n",
    "- We need to have a reusable function to reshape the data and save the reshaped data to a csv file and just pass in the categorical column name, the dataframes and the names of the csv files"
   ],
   "metadata": {
    "collapsed": false
   }
  },
  {
   "cell_type": "code",
   "outputs": [],
   "source": [
    "def save_preprocessed_data(df: pd.DataFrame, file_path: str) -> None:\n",
    "    # Extract directory from file path\n",
    "    dir_path = os.path.dirname(file_path)\n",
    "\n",
    "    # Create the directory if it does not exist\n",
    "    if not os.path.exists(dir_path):\n",
    "        os.makedirs(dir_path)\n",
    "\n",
    "    # Save the DataFrame to a CSV file\n",
    "    df.to_csv(file_path, index=False)"
   ],
   "metadata": {
    "collapsed": false,
    "ExecuteTime": {
     "end_time": "2024-05-09T10:25:15.076904Z",
     "start_time": "2024-05-09T10:25:15.074215Z"
    }
   },
   "execution_count": 112
  },
  {
   "cell_type": "code",
   "outputs": [],
   "source": [
    "def reshape_data(dataframes, value_columns):\n",
    "    reshaped_dataframes = {}\n",
    "    for name, value_column in value_columns.items():\n",
    "        # Pivot the data\n",
    "        pivot_df = dataframes[name].pivot(index='Date', columns=name, values=value_column)\n",
    "\n",
    "        # Reset the index\n",
    "        pivot_df.reset_index(inplace=True)\n",
    "\n",
    "        reshaped_dataframes[name] = pivot_df\n",
    "\n",
    "    return reshaped_dataframes\n",
    "\n",
    "def save_reshaped_data(reshaped_dataframes, value_columns):\n",
    "    for name in value_columns.keys():\n",
    "        # Save the reshaped data to a csv file\n",
    "        save_preprocessed_data(reshaped_dataframes[name], f'../data/{name}/clean/Chart data.csv')"
   ],
   "metadata": {
    "collapsed": false,
    "ExecuteTime": {
     "end_time": "2024-05-09T10:25:15.080819Z",
     "start_time": "2024-05-09T10:25:15.078074Z"
    }
   },
   "execution_count": 113
  },
  {
   "cell_type": "code",
   "outputs": [],
   "source": [
    "def preprocess_data(value_columns):\n",
    "    dataframes = generate_dataframes(value_columns)\n",
    "    reshaped_dataframes = reshape_data(dataframes, value_columns)\n",
    "    save_reshaped_data(reshaped_dataframes, value_columns)"
   ],
   "metadata": {
    "collapsed": false,
    "ExecuteTime": {
     "end_time": "2024-05-09T10:25:15.085453Z",
     "start_time": "2024-05-09T10:25:15.082023Z"
    }
   },
   "execution_count": 114
  },
  {
   "cell_type": "markdown",
   "source": [
    "### Save the reshaped data to a csv file (save preprocessed data)"
   ],
   "metadata": {
    "collapsed": false
   }
  },
  {
   "cell_type": "code",
   "outputs": [],
   "source": [
    "preprocess_data(value_columns)"
   ],
   "metadata": {
    "collapsed": false,
    "ExecuteTime": {
     "end_time": "2024-05-09T10:25:15.191153Z",
     "start_time": "2024-05-09T10:25:15.086294Z"
    }
   },
   "execution_count": 115
  },
  {
   "cell_type": "code",
   "outputs": [],
   "source": [],
   "metadata": {
    "collapsed": false,
    "ExecuteTime": {
     "end_time": "2024-05-09T10:25:15.193943Z",
     "start_time": "2024-05-09T10:25:15.192270Z"
    }
   },
   "execution_count": 115
  }
 ]
}
