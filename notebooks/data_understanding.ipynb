{
  "nbformat": 4,
  "nbformat_minor": 0,
  "metadata": {
    "colab": {
      "provenance": [],
      "mount_file_id": "1GTwEs5Vh-xj1EyB_vp_RGzuIYoquDZZW",
      "authorship_tag": "ABX9TyOXxRJbhf91nZrmfhP6sWSO",
      "include_colab_link": true
    },
    "kernelspec": {
      "name": "python3",
      "display_name": "Python 3"
    },
    "language_info": {
      "name": "python"
    }
  },
  "cells": [
    {
      "cell_type": "markdown",
      "metadata": {
        "id": "view-in-github",
        "colab_type": "text"
      },
      "source": [
        "<a href=\"https://colab.research.google.com/github/10ac-group10/Redash_Chatbot_LLM/blob/database/notebooks/data_understanding.ipynb\" target=\"_parent\"><img src=\"https://colab.research.google.com/assets/colab-badge.svg\" alt=\"Open In Colab\"/></a>"
      ]
    },
    {
      "cell_type": "code",
      "execution_count": 2,
      "metadata": {
        "id": "4vl53KnYz4AN"
      },
      "outputs": [],
      "source": [
        "import pandas as pd"
      ]
    },
    {
      "cell_type": "code",
      "source": [
        "# prompt: fetch data from google drive\n",
        "\n",
        "from google.colab import drive\n",
        "drive.mount('/content/drive', force_remount=True)\n"
      ],
      "metadata": {
        "colab": {
          "base_uri": "https://localhost:8080/"
        },
        "id": "kgpZWrOE1xtQ",
        "outputId": "9ca47df9-0a53-42e0-b299-c25005797eca"
      },
      "execution_count": 3,
      "outputs": [
        {
          "output_type": "stream",
          "name": "stdout",
          "text": [
            "Mounted at /content/drive\n"
          ]
        }
      ]
    },
    {
      "cell_type": "markdown",
      "source": [
        "##### Custom reusable functions to fetch data"
      ],
      "metadata": {
        "id": "CFPCxPF-4FaQ"
      }
    },
    {
      "cell_type": "code",
      "source": [
        "# fetch data from google drive reusable function\n",
        "def fetch_data(data_folder_name, file_name):\n",
        "  df = pd.read_csv(f\"/content/drive/My Drive/10Academy/week3/data/{data_folder_name}/{file_name}.csv\")\n",
        "  return df"
      ],
      "metadata": {
        "id": "LOMC3M8p21nX"
      },
      "execution_count": 4,
      "outputs": []
    },
    {
      "cell_type": "code",
      "source": [
        "def fetch_chart_data(data_folder_name):\n",
        "  return fetch_data(data_folder_name, 'Chart data')"
      ],
      "metadata": {
        "id": "J-CNOWn12e0P"
      },
      "execution_count": 5,
      "outputs": []
    },
    {
      "cell_type": "markdown",
      "source": [
        "##### Load the data"
      ],
      "metadata": {
        "id": "xIT7lYvj4AQs"
      }
    },
    {
      "cell_type": "code",
      "source": [
        "cities_chart_df = fetch_chart_data('Cities')\n",
        "content_chart_df = fetch_chart_data('Content type')\n",
        "device_type_chart_df = fetch_chart_data('Device type')"
      ],
      "metadata": {
        "id": "53LIOAq-34iT"
      },
      "execution_count": 6,
      "outputs": []
    },
    {
      "cell_type": "markdown",
      "source": [
        "##### Explore the unique values and look at the trend in each file"
      ],
      "metadata": {
        "id": "shhZWIbh4KSo"
      }
    },
    {
      "cell_type": "code",
      "source": [
        "# Display the unique values of the columns\n",
        "print(cities_chart_df.nunique())\n",
        "print(content_chart_df.nunique())"
      ],
      "metadata": {
        "colab": {
          "base_uri": "https://localhost:8080/"
        },
        "id": "mCMpxpVU2nNr",
        "outputId": "657d6366-dc79-4bb2-bd69-11d3c96ab5b9"
      },
      "execution_count": 7,
      "outputs": [
        {
          "output_type": "stream",
          "name": "stdout",
          "text": [
            "Date         1279\n",
            "Cities          5\n",
            "City name       5\n",
            "Views          21\n",
            "dtype: int64\n",
            "Date            1279\n",
            "Content type       2\n",
            "Views            130\n",
            "dtype: int64\n"
          ]
        }
      ]
    },
    {
      "cell_type": "markdown",
      "source": [
        "### Reusable code to generate dataframes and display unique values in teh csv files"
      ],
      "metadata": {
        "id": "bMN2kYhM6WzZ"
      }
    },
    {
      "cell_type": "code",
      "source": [
        "def generate_dataframes(names):\n",
        "    dataframes = {}\n",
        "    for name in names:\n",
        "        dataframes[name] = fetch_chart_data(name)\n",
        "    return dataframes"
      ],
      "metadata": {
        "id": "3nL6nXFP6bNI"
      },
      "execution_count": 8,
      "outputs": []
    },
    {
      "cell_type": "code",
      "source": [
        "def display_unique_values(dataframes):\n",
        "    for name, df in dataframes.items():\n",
        "        print(f\"\\n# Unique values columns for {name}\")\n",
        "        print(df.nunique())"
      ],
      "metadata": {
        "id": "vOqIfpce6CC4"
      },
      "execution_count": 9,
      "outputs": []
    },
    {
      "cell_type": "code",
      "source": [
        "names = ['Cities', 'Content type', 'Device type', 'Geography', 'New and returning viewers', 'Operating system', 'Sharing service', 'Subscription source']\n",
        "dataframes = generate_dataframes(names)"
      ],
      "metadata": {
        "id": "Ogke1XKX6fhB"
      },
      "execution_count": 10,
      "outputs": []
    },
    {
      "cell_type": "code",
      "source": [
        "display_unique_values(dataframes)"
      ],
      "metadata": {
        "colab": {
          "base_uri": "https://localhost:8080/"
        },
        "id": "ds7h2JUT6miR",
        "outputId": "5a987e2b-9bab-49d7-b98e-a53f2b7ad5e3"
      },
      "execution_count": 11,
      "outputs": [
        {
          "output_type": "stream",
          "name": "stdout",
          "text": [
            "\n",
            "# Unique values columns for Cities\n",
            "Date         1279\n",
            "Cities          5\n",
            "City name       5\n",
            "Views          21\n",
            "dtype: int64\n",
            "\n",
            "# Unique values columns for Content type\n",
            "Date            1279\n",
            "Content type       2\n",
            "Views            130\n",
            "dtype: int64\n",
            "\n",
            "# Unique values columns for Device type\n",
            "Date           1279\n",
            "Device type       4\n",
            "Views           111\n",
            "dtype: int64\n",
            "\n",
            "# Unique values columns for Geography\n",
            "Date         1279\n",
            "Geography      28\n",
            "Views          81\n",
            "dtype: int64\n",
            "\n",
            "# Unique values columns for New and returning viewers\n",
            "Date                         1279\n",
            "New and returning viewers       3\n",
            "Views                         130\n",
            "dtype: int64\n",
            "\n",
            "# Unique values columns for Operating system\n",
            "Date                1279\n",
            "Operating system      16\n",
            "Views                 91\n",
            "dtype: int64\n",
            "\n",
            "# Unique values columns for Sharing service\n",
            "Date               1279\n",
            "Sharing service       9\n",
            "Shares                7\n",
            "dtype: int64\n",
            "\n",
            "# Unique values columns for Subscription source\n",
            "Date                   1279\n",
            "Subscription source       8\n",
            "Subscribers              13\n",
            "dtype: int64\n"
          ]
        }
      ]
    },
    {
      "cell_type": "markdown",
      "source": [
        "# Conclusion from the unique values results\n",
        "- It can be noted that we have the same unique values of Dates and that we if we have different row lenght that may indicate repetition in some values like the Date column\n",
        "- We'll explore the duplicated if there are any in the next section"
      ],
      "metadata": {
        "id": "4ROKI-AUD-vs"
      }
    },
    {
      "cell_type": "markdown",
      "source": [
        "## Check for duplicated rows"
      ],
      "metadata": {
        "id": "KOXKN5pq_FSh"
      }
    },
    {
      "cell_type": "code",
      "source": [
        "# Check for duplicate rows in the entire DataFrame\n",
        "duplicates = device_type_chart_df.duplicated()\n",
        "\n",
        "# Print the duplicate rows\n",
        "print(device_type_chart_df[duplicates])"
      ],
      "metadata": {
        "colab": {
          "base_uri": "https://localhost:8080/"
        },
        "id": "FAIwYJG086uc",
        "outputId": "2450d3f4-b3a9-414b-f06c-2d0b0183ba55"
      },
      "execution_count": 14,
      "outputs": [
        {
          "output_type": "stream",
          "name": "stdout",
          "text": [
            "Empty DataFrame\n",
            "Columns: [Date, Device type, Views]\n",
            "Index: []\n"
          ]
        }
      ]
    },
    {
      "cell_type": "markdown",
      "source": [
        "## Check duplicated values in each column"
      ],
      "metadata": {
        "id": "C6hCTbWH_ALp"
      }
    },
    {
      "cell_type": "code",
      "source": [
        "for column in device_type_chart_df.columns:\n",
        "    duplicates = device_type_chart_df[column].duplicated()\n",
        "    print(f\"Duplicates in {column}:\")\n",
        "    print(device_type_chart_df[duplicates])"
      ],
      "metadata": {
        "colab": {
          "base_uri": "https://localhost:8080/"
        },
        "id": "a_aDHTcm9mbV",
        "outputId": "9f42924d-c983-48dd-b43b-da9a0ffed0be"
      },
      "execution_count": 16,
      "outputs": [
        {
          "output_type": "stream",
          "name": "stdout",
          "text": [
            "Duplicates in Date:\n",
            "            Date Device type  Views\n",
            "1279  2020-06-28          TV      0\n",
            "1280  2020-06-29          TV      0\n",
            "1281  2020-06-30          TV      0\n",
            "1282  2020-07-01          TV      0\n",
            "1283  2020-07-02          TV      0\n",
            "...          ...         ...    ...\n",
            "5111  2023-12-24      Tablet      0\n",
            "5112  2023-12-25      Tablet      0\n",
            "5113  2023-12-26      Tablet      0\n",
            "5114  2023-12-27      Tablet      0\n",
            "5115  2023-12-28      Tablet      0\n",
            "\n",
            "[3837 rows x 3 columns]\n",
            "Duplicates in Device type:\n",
            "            Date Device type  Views\n",
            "1     2020-06-29    Computer     49\n",
            "2     2020-06-30    Computer     62\n",
            "3     2020-07-01    Computer     46\n",
            "4     2020-07-02    Computer     29\n",
            "5     2020-07-03    Computer     26\n",
            "...          ...         ...    ...\n",
            "5111  2023-12-24      Tablet      0\n",
            "5112  2023-12-25      Tablet      0\n",
            "5113  2023-12-26      Tablet      0\n",
            "5114  2023-12-27      Tablet      0\n",
            "5115  2023-12-28      Tablet      0\n",
            "\n",
            "[5112 rows x 3 columns]\n",
            "Duplicates in Views:\n",
            "            Date Device type  Views\n",
            "7     2020-07-05    Computer     26\n",
            "10    2020-07-08    Computer      0\n",
            "11    2020-07-09    Computer      1\n",
            "12    2020-07-10    Computer      0\n",
            "13    2020-07-11    Computer      0\n",
            "...          ...         ...    ...\n",
            "5111  2023-12-24      Tablet      0\n",
            "5112  2023-12-25      Tablet      0\n",
            "5113  2023-12-26      Tablet      0\n",
            "5114  2023-12-27      Tablet      0\n",
            "5115  2023-12-28      Tablet      0\n",
            "\n",
            "[5005 rows x 3 columns]\n"
          ]
        }
      ]
    },
    {
      "cell_type": "markdown",
      "source": [
        "# Conclusion from the results of duplicated values\n",
        "-  When we look at the output, we can see the duplicates for each Data field\n",
        "- For repeated Dates, we different device types that means the device type is categorical value.\n",
        "## Next steps:\n",
        "- The next step is to make the length of the rows to be equal given the unique Data values.\n",
        "- We can achieve this by reshaping the data from long format to wide format, where each device type becomes a separate column. This can be achieved using the pivot function in pandas."
      ],
      "metadata": {
        "id": "FWtpsVPeElNP"
      }
    },
    {
      "cell_type": "code",
      "source": [
        "merged_df = None\n",
        "\n",
        "for name, df in dataframes.items():\n",
        "    # Add suffixes to the column names\n",
        "    df = df.add_suffix('_' + name)\n",
        "    # Rename the 'Date' column back to its original name\n",
        "    df = df.rename(columns={'Date_' + name: 'Date'})\n",
        "\n",
        "    if merged_df is None:\n",
        "        merged_df = df\n",
        "    else:\n",
        "        merged_df = pd.merge(merged_df, df, on='Date', how='outer')\n",
        "\n",
        "# Now merged_df is the merged dataframe"
      ],
      "metadata": {
        "id": "N_uc0Lv88cGE"
      },
      "execution_count": null,
      "outputs": []
    },
    {
      "cell_type": "code",
      "source": [],
      "metadata": {
        "id": "D3_ys6Eu8dj9"
      },
      "execution_count": null,
      "outputs": []
    },
    {
      "cell_type": "code",
      "source": [
        "# Display the shape of the data\n",
        "df.shape"
      ],
      "metadata": {
        "colab": {
          "base_uri": "https://localhost:8080/"
        },
        "id": "RcgHoVE60f5W",
        "outputId": "0f5563df-de57-4834-dd15-0fb4789adad9"
      },
      "execution_count": 36,
      "outputs": [
        {
          "output_type": "execute_result",
          "data": {
            "text/plain": [
              "(6395, 4)"
            ]
          },
          "metadata": {},
          "execution_count": 36
        }
      ]
    },
    {
      "cell_type": "code",
      "source": [],
      "metadata": {
        "colab": {
          "base_uri": "https://localhost:8080/"
        },
        "id": "kLSl3WU_0qJe",
        "outputId": "867501ed-d3fb-45d2-93ea-5e3c79218844"
      },
      "execution_count": 5,
      "outputs": [
        {
          "output_type": "execute_result",
          "data": {
            "text/plain": [
              "(6395, 4)"
            ]
          },
          "metadata": {},
          "execution_count": 5
        }
      ]
    },
    {
      "cell_type": "code",
      "source": [
        "# Display the columns of the data\n",
        "df.columns"
      ],
      "metadata": {
        "colab": {
          "base_uri": "https://localhost:8080/"
        },
        "id": "TnzVWmyJ0rHu",
        "outputId": "cd3ea7fd-aac4-4650-a404-a4add3612d41"
      },
      "execution_count": 7,
      "outputs": [
        {
          "output_type": "execute_result",
          "data": {
            "text/plain": [
              "Index(['Date', 'Cities', 'City name', 'Views'], dtype='object')"
            ]
          },
          "metadata": {},
          "execution_count": 7
        }
      ]
    },
    {
      "cell_type": "code",
      "source": [
        "# Display the data types of the columns\n",
        "df.dtypes"
      ],
      "metadata": {
        "colab": {
          "base_uri": "https://localhost:8080/"
        },
        "id": "Rq2kh8Rb0z1m",
        "outputId": "a0e22c2c-31c9-46e7-82f8-1b7e1c849ba5"
      },
      "execution_count": 9,
      "outputs": [
        {
          "output_type": "execute_result",
          "data": {
            "text/plain": [
              "Date         object\n",
              "Cities       object\n",
              "City name    object\n",
              "Views         int64\n",
              "dtype: object"
            ]
          },
          "metadata": {},
          "execution_count": 9
        }
      ]
    },
    {
      "cell_type": "code",
      "source": [
        "# Display the summary statistics of the data\n",
        "df.describe()"
      ],
      "metadata": {
        "colab": {
          "base_uri": "https://localhost:8080/",
          "height": 300
        },
        "id": "gjXEKIar04m2",
        "outputId": "5e14af0d-76cf-4328-ba6d-cdab7198404b"
      },
      "execution_count": 11,
      "outputs": [
        {
          "output_type": "execute_result",
          "data": {
            "text/plain": [
              "             Views\n",
              "count  6395.000000\n",
              "mean      0.205160\n",
              "std       4.065557\n",
              "min       0.000000\n",
              "25%       0.000000\n",
              "50%       0.000000\n",
              "75%       0.000000\n",
              "max     180.000000"
            ],
            "text/html": [
              "\n",
              "  <div id=\"df-83051e27-d412-4916-bc99-59f11c94a657\" class=\"colab-df-container\">\n",
              "    <div>\n",
              "<style scoped>\n",
              "    .dataframe tbody tr th:only-of-type {\n",
              "        vertical-align: middle;\n",
              "    }\n",
              "\n",
              "    .dataframe tbody tr th {\n",
              "        vertical-align: top;\n",
              "    }\n",
              "\n",
              "    .dataframe thead th {\n",
              "        text-align: right;\n",
              "    }\n",
              "</style>\n",
              "<table border=\"1\" class=\"dataframe\">\n",
              "  <thead>\n",
              "    <tr style=\"text-align: right;\">\n",
              "      <th></th>\n",
              "      <th>Views</th>\n",
              "    </tr>\n",
              "  </thead>\n",
              "  <tbody>\n",
              "    <tr>\n",
              "      <th>count</th>\n",
              "      <td>6395.000000</td>\n",
              "    </tr>\n",
              "    <tr>\n",
              "      <th>mean</th>\n",
              "      <td>0.205160</td>\n",
              "    </tr>\n",
              "    <tr>\n",
              "      <th>std</th>\n",
              "      <td>4.065557</td>\n",
              "    </tr>\n",
              "    <tr>\n",
              "      <th>min</th>\n",
              "      <td>0.000000</td>\n",
              "    </tr>\n",
              "    <tr>\n",
              "      <th>25%</th>\n",
              "      <td>0.000000</td>\n",
              "    </tr>\n",
              "    <tr>\n",
              "      <th>50%</th>\n",
              "      <td>0.000000</td>\n",
              "    </tr>\n",
              "    <tr>\n",
              "      <th>75%</th>\n",
              "      <td>0.000000</td>\n",
              "    </tr>\n",
              "    <tr>\n",
              "      <th>max</th>\n",
              "      <td>180.000000</td>\n",
              "    </tr>\n",
              "  </tbody>\n",
              "</table>\n",
              "</div>\n",
              "    <div class=\"colab-df-buttons\">\n",
              "\n",
              "  <div class=\"colab-df-container\">\n",
              "    <button class=\"colab-df-convert\" onclick=\"convertToInteractive('df-83051e27-d412-4916-bc99-59f11c94a657')\"\n",
              "            title=\"Convert this dataframe to an interactive table.\"\n",
              "            style=\"display:none;\">\n",
              "\n",
              "  <svg xmlns=\"http://www.w3.org/2000/svg\" height=\"24px\" viewBox=\"0 -960 960 960\">\n",
              "    <path d=\"M120-120v-720h720v720H120Zm60-500h600v-160H180v160Zm220 220h160v-160H400v160Zm0 220h160v-160H400v160ZM180-400h160v-160H180v160Zm440 0h160v-160H620v160ZM180-180h160v-160H180v160Zm440 0h160v-160H620v160Z\"/>\n",
              "  </svg>\n",
              "    </button>\n",
              "\n",
              "  <style>\n",
              "    .colab-df-container {\n",
              "      display:flex;\n",
              "      gap: 12px;\n",
              "    }\n",
              "\n",
              "    .colab-df-convert {\n",
              "      background-color: #E8F0FE;\n",
              "      border: none;\n",
              "      border-radius: 50%;\n",
              "      cursor: pointer;\n",
              "      display: none;\n",
              "      fill: #1967D2;\n",
              "      height: 32px;\n",
              "      padding: 0 0 0 0;\n",
              "      width: 32px;\n",
              "    }\n",
              "\n",
              "    .colab-df-convert:hover {\n",
              "      background-color: #E2EBFA;\n",
              "      box-shadow: 0px 1px 2px rgba(60, 64, 67, 0.3), 0px 1px 3px 1px rgba(60, 64, 67, 0.15);\n",
              "      fill: #174EA6;\n",
              "    }\n",
              "\n",
              "    .colab-df-buttons div {\n",
              "      margin-bottom: 4px;\n",
              "    }\n",
              "\n",
              "    [theme=dark] .colab-df-convert {\n",
              "      background-color: #3B4455;\n",
              "      fill: #D2E3FC;\n",
              "    }\n",
              "\n",
              "    [theme=dark] .colab-df-convert:hover {\n",
              "      background-color: #434B5C;\n",
              "      box-shadow: 0px 1px 3px 1px rgba(0, 0, 0, 0.15);\n",
              "      filter: drop-shadow(0px 1px 2px rgba(0, 0, 0, 0.3));\n",
              "      fill: #FFFFFF;\n",
              "    }\n",
              "  </style>\n",
              "\n",
              "    <script>\n",
              "      const buttonEl =\n",
              "        document.querySelector('#df-83051e27-d412-4916-bc99-59f11c94a657 button.colab-df-convert');\n",
              "      buttonEl.style.display =\n",
              "        google.colab.kernel.accessAllowed ? 'block' : 'none';\n",
              "\n",
              "      async function convertToInteractive(key) {\n",
              "        const element = document.querySelector('#df-83051e27-d412-4916-bc99-59f11c94a657');\n",
              "        const dataTable =\n",
              "          await google.colab.kernel.invokeFunction('convertToInteractive',\n",
              "                                                    [key], {});\n",
              "        if (!dataTable) return;\n",
              "\n",
              "        const docLinkHtml = 'Like what you see? Visit the ' +\n",
              "          '<a target=\"_blank\" href=https://colab.research.google.com/notebooks/data_table.ipynb>data table notebook</a>'\n",
              "          + ' to learn more about interactive tables.';\n",
              "        element.innerHTML = '';\n",
              "        dataTable['output_type'] = 'display_data';\n",
              "        await google.colab.output.renderOutput(dataTable, element);\n",
              "        const docLink = document.createElement('div');\n",
              "        docLink.innerHTML = docLinkHtml;\n",
              "        element.appendChild(docLink);\n",
              "      }\n",
              "    </script>\n",
              "  </div>\n",
              "\n",
              "\n",
              "<div id=\"df-99fe8643-4bbe-44e2-b777-6ddd7eb82fbe\">\n",
              "  <button class=\"colab-df-quickchart\" onclick=\"quickchart('df-99fe8643-4bbe-44e2-b777-6ddd7eb82fbe')\"\n",
              "            title=\"Suggest charts\"\n",
              "            style=\"display:none;\">\n",
              "\n",
              "<svg xmlns=\"http://www.w3.org/2000/svg\" height=\"24px\"viewBox=\"0 0 24 24\"\n",
              "     width=\"24px\">\n",
              "    <g>\n",
              "        <path d=\"M19 3H5c-1.1 0-2 .9-2 2v14c0 1.1.9 2 2 2h14c1.1 0 2-.9 2-2V5c0-1.1-.9-2-2-2zM9 17H7v-7h2v7zm4 0h-2V7h2v10zm4 0h-2v-4h2v4z\"/>\n",
              "    </g>\n",
              "</svg>\n",
              "  </button>\n",
              "\n",
              "<style>\n",
              "  .colab-df-quickchart {\n",
              "      --bg-color: #E8F0FE;\n",
              "      --fill-color: #1967D2;\n",
              "      --hover-bg-color: #E2EBFA;\n",
              "      --hover-fill-color: #174EA6;\n",
              "      --disabled-fill-color: #AAA;\n",
              "      --disabled-bg-color: #DDD;\n",
              "  }\n",
              "\n",
              "  [theme=dark] .colab-df-quickchart {\n",
              "      --bg-color: #3B4455;\n",
              "      --fill-color: #D2E3FC;\n",
              "      --hover-bg-color: #434B5C;\n",
              "      --hover-fill-color: #FFFFFF;\n",
              "      --disabled-bg-color: #3B4455;\n",
              "      --disabled-fill-color: #666;\n",
              "  }\n",
              "\n",
              "  .colab-df-quickchart {\n",
              "    background-color: var(--bg-color);\n",
              "    border: none;\n",
              "    border-radius: 50%;\n",
              "    cursor: pointer;\n",
              "    display: none;\n",
              "    fill: var(--fill-color);\n",
              "    height: 32px;\n",
              "    padding: 0;\n",
              "    width: 32px;\n",
              "  }\n",
              "\n",
              "  .colab-df-quickchart:hover {\n",
              "    background-color: var(--hover-bg-color);\n",
              "    box-shadow: 0 1px 2px rgba(60, 64, 67, 0.3), 0 1px 3px 1px rgba(60, 64, 67, 0.15);\n",
              "    fill: var(--button-hover-fill-color);\n",
              "  }\n",
              "\n",
              "  .colab-df-quickchart-complete:disabled,\n",
              "  .colab-df-quickchart-complete:disabled:hover {\n",
              "    background-color: var(--disabled-bg-color);\n",
              "    fill: var(--disabled-fill-color);\n",
              "    box-shadow: none;\n",
              "  }\n",
              "\n",
              "  .colab-df-spinner {\n",
              "    border: 2px solid var(--fill-color);\n",
              "    border-color: transparent;\n",
              "    border-bottom-color: var(--fill-color);\n",
              "    animation:\n",
              "      spin 1s steps(1) infinite;\n",
              "  }\n",
              "\n",
              "  @keyframes spin {\n",
              "    0% {\n",
              "      border-color: transparent;\n",
              "      border-bottom-color: var(--fill-color);\n",
              "      border-left-color: var(--fill-color);\n",
              "    }\n",
              "    20% {\n",
              "      border-color: transparent;\n",
              "      border-left-color: var(--fill-color);\n",
              "      border-top-color: var(--fill-color);\n",
              "    }\n",
              "    30% {\n",
              "      border-color: transparent;\n",
              "      border-left-color: var(--fill-color);\n",
              "      border-top-color: var(--fill-color);\n",
              "      border-right-color: var(--fill-color);\n",
              "    }\n",
              "    40% {\n",
              "      border-color: transparent;\n",
              "      border-right-color: var(--fill-color);\n",
              "      border-top-color: var(--fill-color);\n",
              "    }\n",
              "    60% {\n",
              "      border-color: transparent;\n",
              "      border-right-color: var(--fill-color);\n",
              "    }\n",
              "    80% {\n",
              "      border-color: transparent;\n",
              "      border-right-color: var(--fill-color);\n",
              "      border-bottom-color: var(--fill-color);\n",
              "    }\n",
              "    90% {\n",
              "      border-color: transparent;\n",
              "      border-bottom-color: var(--fill-color);\n",
              "    }\n",
              "  }\n",
              "</style>\n",
              "\n",
              "  <script>\n",
              "    async function quickchart(key) {\n",
              "      const quickchartButtonEl =\n",
              "        document.querySelector('#' + key + ' button');\n",
              "      quickchartButtonEl.disabled = true;  // To prevent multiple clicks.\n",
              "      quickchartButtonEl.classList.add('colab-df-spinner');\n",
              "      try {\n",
              "        const charts = await google.colab.kernel.invokeFunction(\n",
              "            'suggestCharts', [key], {});\n",
              "      } catch (error) {\n",
              "        console.error('Error during call to suggestCharts:', error);\n",
              "      }\n",
              "      quickchartButtonEl.classList.remove('colab-df-spinner');\n",
              "      quickchartButtonEl.classList.add('colab-df-quickchart-complete');\n",
              "    }\n",
              "    (() => {\n",
              "      let quickchartButtonEl =\n",
              "        document.querySelector('#df-99fe8643-4bbe-44e2-b777-6ddd7eb82fbe button');\n",
              "      quickchartButtonEl.style.display =\n",
              "        google.colab.kernel.accessAllowed ? 'block' : 'none';\n",
              "    })();\n",
              "  </script>\n",
              "</div>\n",
              "\n",
              "    </div>\n",
              "  </div>\n"
            ],
            "application/vnd.google.colaboratory.intrinsic+json": {
              "type": "dataframe",
              "summary": "{\n  \"name\": \"df\",\n  \"rows\": 8,\n  \"fields\": [\n    {\n      \"column\": \"Views\",\n      \"properties\": {\n        \"dtype\": \"number\",\n        \"std\": 2252.5411420093665,\n        \"min\": 0.0,\n        \"max\": 6395.0,\n        \"num_unique_values\": 5,\n        \"samples\": [\n          0.20516028146989837,\n          180.0,\n          4.065556584989048\n        ],\n        \"semantic_type\": \"\",\n        \"description\": \"\"\n      }\n    }\n  ]\n}"
            }
          },
          "metadata": {},
          "execution_count": 11
        }
      ]
    },
    {
      "cell_type": "code",
      "source": [
        "# Display the missing values of the data\n",
        "df.isnull().sum()"
      ],
      "metadata": {
        "colab": {
          "base_uri": "https://localhost:8080/"
        },
        "id": "G9ZJvKES0-Em",
        "outputId": "c2ec4050-b871-453e-fb47-86e0ff123cb6"
      },
      "execution_count": 13,
      "outputs": [
        {
          "output_type": "execute_result",
          "data": {
            "text/plain": [
              "Date         0\n",
              "Cities       0\n",
              "City name    0\n",
              "Views        0\n",
              "dtype: int64"
            ]
          },
          "metadata": {},
          "execution_count": 13
        }
      ]
    },
    {
      "cell_type": "code",
      "source": [
        "# Display the unique values of the columns\n",
        "df.nunique()"
      ],
      "metadata": {
        "colab": {
          "base_uri": "https://localhost:8080/"
        },
        "id": "iCYl4gek1B-e",
        "outputId": "5b9ebe6c-7540-4232-cb00-5ca4d28f17c7"
      },
      "execution_count": 15,
      "outputs": [
        {
          "output_type": "execute_result",
          "data": {
            "text/plain": [
              "Date         1279\n",
              "Cities          5\n",
              "City name       5\n",
              "Views          21\n",
              "dtype: int64"
            ]
          },
          "metadata": {},
          "execution_count": 15
        }
      ]
    },
    {
      "cell_type": "code",
      "source": [],
      "metadata": {
        "id": "N9XPl5xu1IL-"
      },
      "execution_count": null,
      "outputs": []
    }
  ]
}