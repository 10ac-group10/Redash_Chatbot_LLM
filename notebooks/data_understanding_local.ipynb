{
 "nbformat": 4,
 "nbformat_minor": 0,
 "metadata": {
  "colab": {
   "provenance": [],
   "mount_file_id": "1GTwEs5Vh-xj1EyB_vp_RGzuIYoquDZZW",
   "authorship_tag": "ABX9TyPcryRu5GAcj3gEzW1DuDdm",
   "include_colab_link": true
  },
  "kernelspec": {
   "name": "python3",
   "language": "python",
   "display_name": "Python 3 (ipykernel)"
  },
  "language_info": {
   "name": "python"
  }
 },
 "cells": [
  {
   "cell_type": "markdown",
   "metadata": {
    "id": "view-in-github",
    "colab_type": "text"
   },
   "source": [
    "<a href=\"https://colab.research.google.com/github/10ac-group10/Redash_Chatbot_LLM/blob/database/notebooks/data_understanding.ipynb\" target=\"_parent\"><img src=\"https://colab.research.google.com/assets/colab-badge.svg\" alt=\"Open In Colab\"/></a>"
   ]
  },
  {
   "cell_type": "code",
   "execution_count": 23,
   "metadata": {
    "id": "4vl53KnYz4AN",
    "ExecuteTime": {
     "end_time": "2024-05-09T07:08:57.427583Z",
     "start_time": "2024-05-09T07:08:57.425Z"
    }
   },
   "outputs": [],
   "source": [
    "import pandas as pd\n",
    "import os"
   ]
  },
  {
   "cell_type": "code",
   "source": [
    "# prompt: fetch data from google drive\n",
    "def mount_drive():\n",
    "    from google.colab import drive\n",
    "    drive.mount('/content/drive', force_remount=True)"
   ],
   "metadata": {
    "colab": {
     "base_uri": "https://localhost:8080/"
    },
    "id": "kgpZWrOE1xtQ",
    "outputId": "9ca47df9-0a53-42e0-b299-c25005797eca",
    "ExecuteTime": {
     "end_time": "2024-05-09T07:03:47.423182Z",
     "start_time": "2024-05-09T07:03:47.420377Z"
    }
   },
   "execution_count": 6,
   "outputs": []
  },
  {
   "cell_type": "code",
   "outputs": [],
   "source": [],
   "metadata": {
    "collapsed": false,
    "ExecuteTime": {
     "end_time": "2024-05-09T07:03:47.787632Z",
     "start_time": "2024-05-09T07:03:47.785323Z"
    }
   },
   "execution_count": 6
  },
  {
   "cell_type": "markdown",
   "source": [
    "##### Custom reusable functions to fetch data"
   ],
   "metadata": {
    "id": "CFPCxPF-4FaQ"
   }
  },
  {
   "cell_type": "code",
   "source": [
    "# fetch data from google drive reusable function\n",
    "def fetch_data(data_folder_name, file_name, google_colab=False):\n",
    "    if google_colab:\n",
    "        mount_drive()\n",
    "        # Fetch data from google drive\n",
    "        df = pd.read_csv(f\"/content/drive/My Drive/10Academy/week3/data/{data_folder_name}/{file_name}.csv\")\n",
    "    else:\n",
    "        # Fetch data from local\n",
    "        df = pd.read_csv(f\"../data/{data_folder_name}/{file_name}.csv\")\n",
    "    return df"
   ],
   "metadata": {
    "id": "LOMC3M8p21nX",
    "ExecuteTime": {
     "end_time": "2024-05-09T07:03:48.588698Z",
     "start_time": "2024-05-09T07:03:48.585820Z"
    }
   },
   "execution_count": 7,
   "outputs": []
  },
  {
   "cell_type": "code",
   "source": [
    "def fetch_chart_data(data_folder_name):\n",
    "  return fetch_data(data_folder_name, 'Chart data')"
   ],
   "metadata": {
    "id": "J-CNOWn12e0P",
    "ExecuteTime": {
     "end_time": "2024-05-09T07:03:49.128598Z",
     "start_time": "2024-05-09T07:03:49.125653Z"
    }
   },
   "execution_count": 8,
   "outputs": []
  },
  {
   "cell_type": "markdown",
   "source": [
    "##### Load the data"
   ],
   "metadata": {
    "id": "xIT7lYvj4AQs"
   }
  },
  {
   "cell_type": "code",
   "source": [
    "cities_chart_df = fetch_chart_data('Cities')\n",
    "content_chart_df = fetch_chart_data('Content type')\n",
    "device_type_chart_df = fetch_chart_data('Device type')"
   ],
   "metadata": {
    "id": "53LIOAq-34iT",
    "ExecuteTime": {
     "end_time": "2024-05-09T07:04:00.519963Z",
     "start_time": "2024-05-09T07:04:00.502407Z"
    }
   },
   "execution_count": 9,
   "outputs": []
  },
  {
   "cell_type": "markdown",
   "source": [
    "##### Explore the unique values and look at the trend in each file"
   ],
   "metadata": {
    "id": "shhZWIbh4KSo"
   }
  },
  {
   "cell_type": "code",
   "source": [
    "# Display the unique values of the columns\n",
    "print(cities_chart_df.nunique())\n",
    "print(content_chart_df.nunique())"
   ],
   "metadata": {
    "colab": {
     "base_uri": "https://localhost:8080/"
    },
    "id": "mCMpxpVU2nNr",
    "outputId": "657d6366-dc79-4bb2-bd69-11d3c96ab5b9",
    "ExecuteTime": {
     "end_time": "2024-05-09T07:04:01.997568Z",
     "start_time": "2024-05-09T07:04:01.990942Z"
    }
   },
   "execution_count": 10,
   "outputs": [
    {
     "name": "stdout",
     "output_type": "stream",
     "text": [
      "Date         1279\n",
      "Cities          5\n",
      "City name       5\n",
      "Views          21\n",
      "dtype: int64\n",
      "Date            1279\n",
      "Content type       2\n",
      "Views            130\n",
      "dtype: int64\n"
     ]
    }
   ]
  },
  {
   "cell_type": "markdown",
   "source": [
    "### Reusable code to generate dataframes and display unique values in teh csv files"
   ],
   "metadata": {
    "id": "bMN2kYhM6WzZ"
   }
  },
  {
   "cell_type": "code",
   "source": [
    "def generate_dataframes(names):\n",
    "    dataframes = {}\n",
    "    for name in names:\n",
    "        dataframes[name] = fetch_chart_data(name)\n",
    "    return dataframes"
   ],
   "metadata": {
    "id": "3nL6nXFP6bNI",
    "ExecuteTime": {
     "end_time": "2024-05-09T07:04:03.629141Z",
     "start_time": "2024-05-09T07:04:03.626359Z"
    }
   },
   "execution_count": 11,
   "outputs": []
  },
  {
   "cell_type": "code",
   "source": [
    "def display_unique_values(dataframes):\n",
    "    for name, df in dataframes.items():\n",
    "        print(f\"\\n# Unique values columns for {name}\")\n",
    "        print(df.nunique())"
   ],
   "metadata": {
    "id": "vOqIfpce6CC4",
    "ExecuteTime": {
     "end_time": "2024-05-09T07:04:03.859438Z",
     "start_time": "2024-05-09T07:04:03.857123Z"
    }
   },
   "execution_count": 12,
   "outputs": []
  },
  {
   "cell_type": "code",
   "source": [
    "names = ['Cities', 'Content type', 'Device type', 'Geography', 'New and returning viewers', 'Operating system', 'Sharing service', 'Subscription source']\n",
    "dataframes = generate_dataframes(names)"
   ],
   "metadata": {
    "id": "Ogke1XKX6fhB",
    "ExecuteTime": {
     "end_time": "2024-05-09T07:04:04.385536Z",
     "start_time": "2024-05-09T07:04:04.331374Z"
    }
   },
   "execution_count": 13,
   "outputs": []
  },
  {
   "cell_type": "code",
   "source": [
    "display_unique_values(dataframes)"
   ],
   "metadata": {
    "colab": {
     "base_uri": "https://localhost:8080/"
    },
    "id": "ds7h2JUT6miR",
    "outputId": "5a987e2b-9bab-49d7-b98e-a53f2b7ad5e3",
    "ExecuteTime": {
     "end_time": "2024-05-09T07:04:04.764428Z",
     "start_time": "2024-05-09T07:04:04.745418Z"
    }
   },
   "execution_count": 14,
   "outputs": [
    {
     "name": "stdout",
     "output_type": "stream",
     "text": [
      "\n",
      "# Unique values columns for Cities\n",
      "Date         1279\n",
      "Cities          5\n",
      "City name       5\n",
      "Views          21\n",
      "dtype: int64\n",
      "\n",
      "# Unique values columns for Content type\n",
      "Date            1279\n",
      "Content type       2\n",
      "Views            130\n",
      "dtype: int64\n",
      "\n",
      "# Unique values columns for Device type\n",
      "Date           1279\n",
      "Device type       4\n",
      "Views           111\n",
      "dtype: int64\n",
      "\n",
      "# Unique values columns for Geography\n",
      "Date         1279\n",
      "Geography      28\n",
      "Views          81\n",
      "dtype: int64\n",
      "\n",
      "# Unique values columns for New and returning viewers\n",
      "Date                         1279\n",
      "New and returning viewers       3\n",
      "Views                         130\n",
      "dtype: int64\n",
      "\n",
      "# Unique values columns for Operating system\n",
      "Date                1279\n",
      "Operating system      16\n",
      "Views                 91\n",
      "dtype: int64\n",
      "\n",
      "# Unique values columns for Sharing service\n",
      "Date               1279\n",
      "Sharing service       9\n",
      "Shares                7\n",
      "dtype: int64\n",
      "\n",
      "# Unique values columns for Subscription source\n",
      "Date                   1279\n",
      "Subscription source       8\n",
      "Subscribers              13\n",
      "dtype: int64\n"
     ]
    }
   ]
  },
  {
   "cell_type": "markdown",
   "source": [
    "# Conclusion from the unique values results\n",
    "- It can be noted that we have the same unique values of Dates and that we if we have different row lenght that may indicate repetition in some values like the Date column\n",
    "- We'll explore the duplicated if there are any in the next section"
   ],
   "metadata": {
    "id": "4ROKI-AUD-vs"
   }
  },
  {
   "cell_type": "markdown",
   "source": [
    "## Check for duplicated rows"
   ],
   "metadata": {
    "id": "KOXKN5pq_FSh"
   }
  },
  {
   "cell_type": "code",
   "source": [
    "# Check for duplicate rows in the entire DataFrame\n",
    "duplicates = device_type_chart_df.duplicated()\n",
    "\n",
    "# Print the duplicate rows\n",
    "print(device_type_chart_df[duplicates])"
   ],
   "metadata": {
    "colab": {
     "base_uri": "https://localhost:8080/"
    },
    "id": "FAIwYJG086uc",
    "outputId": "2450d3f4-b3a9-414b-f06c-2d0b0183ba55",
    "ExecuteTime": {
     "end_time": "2024-05-09T07:04:06.086279Z",
     "start_time": "2024-05-09T07:04:06.079423Z"
    }
   },
   "execution_count": 15,
   "outputs": [
    {
     "name": "stdout",
     "output_type": "stream",
     "text": [
      "Empty DataFrame\n",
      "Columns: [Date, Device type, Views]\n",
      "Index: []\n"
     ]
    }
   ]
  },
  {
   "cell_type": "markdown",
   "source": [
    "## Check duplicated values in each column"
   ],
   "metadata": {
    "id": "C6hCTbWH_ALp"
   }
  },
  {
   "cell_type": "code",
   "source": [
    "for column in device_type_chart_df.columns:\n",
    "    duplicates = device_type_chart_df[column].duplicated()\n",
    "    print(f\"Duplicates in {column}:\")\n",
    "    print(device_type_chart_df[duplicates])"
   ],
   "metadata": {
    "colab": {
     "base_uri": "https://localhost:8080/"
    },
    "id": "a_aDHTcm9mbV",
    "outputId": "9f42924d-c983-48dd-b43b-da9a0ffed0be",
    "ExecuteTime": {
     "end_time": "2024-05-09T07:04:06.940362Z",
     "start_time": "2024-05-09T07:04:06.930246Z"
    }
   },
   "execution_count": 16,
   "outputs": [
    {
     "name": "stdout",
     "output_type": "stream",
     "text": [
      "Duplicates in Date:\n",
      "            Date Device type  Views\n",
      "1279  2020-06-28          TV      0\n",
      "1280  2020-06-29          TV      0\n",
      "1281  2020-06-30          TV      0\n",
      "1282  2020-07-01          TV      0\n",
      "1283  2020-07-02          TV      0\n",
      "...          ...         ...    ...\n",
      "5111  2023-12-24      Tablet      0\n",
      "5112  2023-12-25      Tablet      0\n",
      "5113  2023-12-26      Tablet      0\n",
      "5114  2023-12-27      Tablet      0\n",
      "5115  2023-12-28      Tablet      0\n",
      "\n",
      "[3837 rows x 3 columns]\n",
      "Duplicates in Device type:\n",
      "            Date Device type  Views\n",
      "1     2020-06-29    Computer     49\n",
      "2     2020-06-30    Computer     62\n",
      "3     2020-07-01    Computer     46\n",
      "4     2020-07-02    Computer     29\n",
      "5     2020-07-03    Computer     26\n",
      "...          ...         ...    ...\n",
      "5111  2023-12-24      Tablet      0\n",
      "5112  2023-12-25      Tablet      0\n",
      "5113  2023-12-26      Tablet      0\n",
      "5114  2023-12-27      Tablet      0\n",
      "5115  2023-12-28      Tablet      0\n",
      "\n",
      "[5112 rows x 3 columns]\n",
      "Duplicates in Views:\n",
      "            Date Device type  Views\n",
      "7     2020-07-05    Computer     26\n",
      "10    2020-07-08    Computer      0\n",
      "11    2020-07-09    Computer      1\n",
      "12    2020-07-10    Computer      0\n",
      "13    2020-07-11    Computer      0\n",
      "...          ...         ...    ...\n",
      "5111  2023-12-24      Tablet      0\n",
      "5112  2023-12-25      Tablet      0\n",
      "5113  2023-12-26      Tablet      0\n",
      "5114  2023-12-27      Tablet      0\n",
      "5115  2023-12-28      Tablet      0\n",
      "\n",
      "[5005 rows x 3 columns]\n"
     ]
    }
   ]
  },
  {
   "cell_type": "markdown",
   "source": [
    "# Conclusion from the results of duplicated values\n",
    "-  When we look at the output, we can see the duplicates for each Data field\n",
    "- For repeated Dates, we different device types that means the device type is categorical value.\n",
    "## Next steps:\n",
    "- The next step is to make the length of the rows to be equal given the unique Data values.\n",
    "- We can achieve this by reshaping the data from long format to wide format, where each device type becomes a separate column. This can be achieved using the pivot function in pandas."
   ],
   "metadata": {
    "id": "FWtpsVPeElNP"
   }
  },
  {
   "cell_type": "markdown",
   "source": [
    "## Reshape the data from long format to wide format, grouping by device type and Date in this case"
   ],
   "metadata": {
    "id": "xlTgTvOcHWkz"
   }
  },
  {
   "cell_type": "markdown",
   "source": [
    "This first snippet directly applies the pivot function to the original dataframe. This will work if there is only one entry for each combination of 'Date' and 'Device type' in the data."
   ],
   "metadata": {
    "id": "YWeb2fbOHRSR"
   }
  },
  {
   "cell_type": "code",
   "source": [
    "# Pivot the data\n",
    "pivot_df = device_type_chart_df.pivot(index='Date', columns='Device type', values='Views')\n",
    "\n",
    "# Reset the index\n",
    "pivot_df.reset_index(inplace=True)"
   ],
   "metadata": {
    "id": "N_uc0Lv88cGE",
    "ExecuteTime": {
     "end_time": "2024-05-09T07:04:08.963254Z",
     "start_time": "2024-05-09T07:04:08.953998Z"
    }
   },
   "execution_count": 17,
   "outputs": []
  },
  {
   "cell_type": "code",
   "source": [
    "pivot_df.tail()"
   ],
   "metadata": {
    "colab": {
     "base_uri": "https://localhost:8080/",
     "height": 206
    },
    "id": "C2P2oKUWHnpk",
    "outputId": "12c01298-0d05-4a81-8be6-f76a9a0c1d01",
    "ExecuteTime": {
     "end_time": "2024-05-09T07:04:09.439268Z",
     "start_time": "2024-05-09T07:04:09.431083Z"
    }
   },
   "execution_count": 18,
   "outputs": [
    {
     "data": {
      "text/plain": "Device type        Date  Computer  Mobile phone  TV  Tablet\n1274         2023-12-24        17            19   0       0\n1275         2023-12-25        17            16   0       0\n1276         2023-12-26        33            21   3       0\n1277         2023-12-27         4             4   0       0\n1278         2023-12-28        24             1   0       0",
      "text/html": "<div>\n<style scoped>\n    .dataframe tbody tr th:only-of-type {\n        vertical-align: middle;\n    }\n\n    .dataframe tbody tr th {\n        vertical-align: top;\n    }\n\n    .dataframe thead th {\n        text-align: right;\n    }\n</style>\n<table border=\"1\" class=\"dataframe\">\n  <thead>\n    <tr style=\"text-align: right;\">\n      <th>Device type</th>\n      <th>Date</th>\n      <th>Computer</th>\n      <th>Mobile phone</th>\n      <th>TV</th>\n      <th>Tablet</th>\n    </tr>\n  </thead>\n  <tbody>\n    <tr>\n      <th>1274</th>\n      <td>2023-12-24</td>\n      <td>17</td>\n      <td>19</td>\n      <td>0</td>\n      <td>0</td>\n    </tr>\n    <tr>\n      <th>1275</th>\n      <td>2023-12-25</td>\n      <td>17</td>\n      <td>16</td>\n      <td>0</td>\n      <td>0</td>\n    </tr>\n    <tr>\n      <th>1276</th>\n      <td>2023-12-26</td>\n      <td>33</td>\n      <td>21</td>\n      <td>3</td>\n      <td>0</td>\n    </tr>\n    <tr>\n      <th>1277</th>\n      <td>2023-12-27</td>\n      <td>4</td>\n      <td>4</td>\n      <td>0</td>\n      <td>0</td>\n    </tr>\n    <tr>\n      <th>1278</th>\n      <td>2023-12-28</td>\n      <td>24</td>\n      <td>1</td>\n      <td>0</td>\n      <td>0</td>\n    </tr>\n  </tbody>\n</table>\n</div>"
     },
     "execution_count": 18,
     "metadata": {},
     "output_type": "execute_result"
    }
   ]
  },
  {
   "cell_type": "markdown",
   "source": [
    "The second snippet first aggregates the data by 'Date' and 'Device type' using the groupby function and then applies the pivot function to the aggregated data. This is necessary if there are multiple entries for the same combination of 'Date' and 'Device type' in the data, as the pivot function does not handle duplicate entries."
   ],
   "metadata": {
    "id": "JWoAV_vrHikc"
   }
  },
  {
   "cell_type": "code",
   "source": [
    "# Aggregate data by 'Date' and 'Device type'\n",
    "agg_df = device_type_chart_df.groupby(['Date', 'Device type'])['Views'].sum().reset_index()\n",
    "\n",
    "# Pivot the aggregated data\n",
    "pivot_df = agg_df.pivot(index='Date', columns='Device type', values='Views')\n",
    "\n",
    "# Reset the index\n",
    "pivot_df.reset_index(inplace=True)"
   ],
   "metadata": {
    "id": "Itozrl2GG-8b",
    "ExecuteTime": {
     "end_time": "2024-05-09T07:04:14.305749Z",
     "start_time": "2024-05-09T07:04:14.296354Z"
    }
   },
   "execution_count": 19,
   "outputs": []
  },
  {
   "cell_type": "code",
   "source": [
    "pivot_df.tail()"
   ],
   "metadata": {
    "colab": {
     "base_uri": "https://localhost:8080/",
     "height": 206
    },
    "id": "D3_ys6Eu8dj9",
    "outputId": "2a1a97f8-b1ab-4b07-c6d8-f9675153cd05",
    "ExecuteTime": {
     "end_time": "2024-05-09T07:04:14.823665Z",
     "start_time": "2024-05-09T07:04:14.818274Z"
    }
   },
   "execution_count": 20,
   "outputs": [
    {
     "data": {
      "text/plain": "Device type        Date  Computer  Mobile phone  TV  Tablet\n1274         2023-12-24        17            19   0       0\n1275         2023-12-25        17            16   0       0\n1276         2023-12-26        33            21   3       0\n1277         2023-12-27         4             4   0       0\n1278         2023-12-28        24             1   0       0",
      "text/html": "<div>\n<style scoped>\n    .dataframe tbody tr th:only-of-type {\n        vertical-align: middle;\n    }\n\n    .dataframe tbody tr th {\n        vertical-align: top;\n    }\n\n    .dataframe thead th {\n        text-align: right;\n    }\n</style>\n<table border=\"1\" class=\"dataframe\">\n  <thead>\n    <tr style=\"text-align: right;\">\n      <th>Device type</th>\n      <th>Date</th>\n      <th>Computer</th>\n      <th>Mobile phone</th>\n      <th>TV</th>\n      <th>Tablet</th>\n    </tr>\n  </thead>\n  <tbody>\n    <tr>\n      <th>1274</th>\n      <td>2023-12-24</td>\n      <td>17</td>\n      <td>19</td>\n      <td>0</td>\n      <td>0</td>\n    </tr>\n    <tr>\n      <th>1275</th>\n      <td>2023-12-25</td>\n      <td>17</td>\n      <td>16</td>\n      <td>0</td>\n      <td>0</td>\n    </tr>\n    <tr>\n      <th>1276</th>\n      <td>2023-12-26</td>\n      <td>33</td>\n      <td>21</td>\n      <td>3</td>\n      <td>0</td>\n    </tr>\n    <tr>\n      <th>1277</th>\n      <td>2023-12-27</td>\n      <td>4</td>\n      <td>4</td>\n      <td>0</td>\n      <td>0</td>\n    </tr>\n    <tr>\n      <th>1278</th>\n      <td>2023-12-28</td>\n      <td>24</td>\n      <td>1</td>\n      <td>0</td>\n      <td>0</td>\n    </tr>\n  </tbody>\n</table>\n</div>"
     },
     "execution_count": 20,
     "metadata": {},
     "output_type": "execute_result"
    }
   ]
  },
  {
   "cell_type": "markdown",
   "source": [
    "### Save the reshaped data to a csv file (save preprocessed data)"
   ],
   "metadata": {
    "collapsed": false
   }
  },
  {
   "cell_type": "code",
   "source": [
    "def save_preprocessed_data(df: pd.DataFrame, file_path: str) -> None:\n",
    "    # Extract directory from file path\n",
    "    dir_path = os.path.dirname(file_path)\n",
    "\n",
    "    # Create the directory if it does not exist\n",
    "    if not os.path.exists(dir_path):\n",
    "        os.makedirs(dir_path)\n",
    "\n",
    "    # Save the DataFrame to a CSV file\n",
    "    df.to_csv(file_path, index=False)"
   ],
   "metadata": {
    "id": "9V65r3KrGkYc",
    "ExecuteTime": {
     "end_time": "2024-05-09T07:09:48.247640Z",
     "start_time": "2024-05-09T07:09:48.244639Z"
    }
   },
   "execution_count": 24,
   "outputs": []
  },
  {
   "cell_type": "code",
   "outputs": [],
   "source": [
    "# Save the reshaped data to a csv file\n",
    "save_preprocessed_data(pivot_df, '../data/Device type/clean/Chart data.csv')"
   ],
   "metadata": {
    "collapsed": false,
    "ExecuteTime": {
     "end_time": "2024-05-09T07:09:58.448109Z",
     "start_time": "2024-05-09T07:09:58.442663Z"
    }
   },
   "execution_count": 25
  },
  {
   "cell_type": "code",
   "outputs": [],
   "source": [],
   "metadata": {
    "collapsed": false
   }
  },
  {
   "cell_type": "markdown",
   "source": [
    "# Understand the Cities data"
   ],
   "metadata": {
    "collapsed": false
   }
  },
  {
   "cell_type": "code",
   "outputs": [
    {
     "data": {
      "text/plain": "         Date                                 Cities    City name  Views\n0  2020-06-28  0x164b85cef5ab402d:0x8467b6b037a24d49  Addis Ababa      0\n1  2020-06-29  0x164b85cef5ab402d:0x8467b6b037a24d49  Addis Ababa      0\n2  2020-06-30  0x164b85cef5ab402d:0x8467b6b037a24d49  Addis Ababa      0\n3  2020-07-01  0x164b85cef5ab402d:0x8467b6b037a24d49  Addis Ababa      0\n4  2020-07-02  0x164b85cef5ab402d:0x8467b6b037a24d49  Addis Ababa      0",
      "text/html": "<div>\n<style scoped>\n    .dataframe tbody tr th:only-of-type {\n        vertical-align: middle;\n    }\n\n    .dataframe tbody tr th {\n        vertical-align: top;\n    }\n\n    .dataframe thead th {\n        text-align: right;\n    }\n</style>\n<table border=\"1\" class=\"dataframe\">\n  <thead>\n    <tr style=\"text-align: right;\">\n      <th></th>\n      <th>Date</th>\n      <th>Cities</th>\n      <th>City name</th>\n      <th>Views</th>\n    </tr>\n  </thead>\n  <tbody>\n    <tr>\n      <th>0</th>\n      <td>2020-06-28</td>\n      <td>0x164b85cef5ab402d:0x8467b6b037a24d49</td>\n      <td>Addis Ababa</td>\n      <td>0</td>\n    </tr>\n    <tr>\n      <th>1</th>\n      <td>2020-06-29</td>\n      <td>0x164b85cef5ab402d:0x8467b6b037a24d49</td>\n      <td>Addis Ababa</td>\n      <td>0</td>\n    </tr>\n    <tr>\n      <th>2</th>\n      <td>2020-06-30</td>\n      <td>0x164b85cef5ab402d:0x8467b6b037a24d49</td>\n      <td>Addis Ababa</td>\n      <td>0</td>\n    </tr>\n    <tr>\n      <th>3</th>\n      <td>2020-07-01</td>\n      <td>0x164b85cef5ab402d:0x8467b6b037a24d49</td>\n      <td>Addis Ababa</td>\n      <td>0</td>\n    </tr>\n    <tr>\n      <th>4</th>\n      <td>2020-07-02</td>\n      <td>0x164b85cef5ab402d:0x8467b6b037a24d49</td>\n      <td>Addis Ababa</td>\n      <td>0</td>\n    </tr>\n  </tbody>\n</table>\n</div>"
     },
     "execution_count": 26,
     "metadata": {},
     "output_type": "execute_result"
    }
   ],
   "source": [
    "cities_chart_df.head()"
   ],
   "metadata": {
    "collapsed": false,
    "ExecuteTime": {
     "end_time": "2024-05-09T07:14:43.300712Z",
     "start_time": "2024-05-09T07:14:43.294866Z"
    }
   },
   "execution_count": 26
  },
  {
   "cell_type": "code",
   "outputs": [
    {
     "name": "stdout",
     "output_type": "stream",
     "text": [
      "<class 'pandas.core.frame.DataFrame'>\n",
      "RangeIndex: 6395 entries, 0 to 6394\n",
      "Data columns (total 4 columns):\n",
      " #   Column     Non-Null Count  Dtype \n",
      "---  ------     --------------  ----- \n",
      " 0   Date       6395 non-null   object\n",
      " 1   Cities     6395 non-null   object\n",
      " 2   City name  6395 non-null   object\n",
      " 3   Views      6395 non-null   int64 \n",
      "dtypes: int64(1), object(3)\n",
      "memory usage: 200.0+ KB\n"
     ]
    }
   ],
   "source": [
    "cities_chart_df.info()"
   ],
   "metadata": {
    "collapsed": false,
    "ExecuteTime": {
     "end_time": "2024-05-09T07:15:07.477470Z",
     "start_time": "2024-05-09T07:15:07.469166Z"
    }
   },
   "execution_count": 29
  },
  {
   "cell_type": "code",
   "outputs": [
    {
     "data": {
      "text/plain": "Date         0\nCities       0\nCity name    0\nViews        0\ndtype: int64"
     },
     "execution_count": 30,
     "metadata": {},
     "output_type": "execute_result"
    }
   ],
   "source": [
    "# Check for missing values\n",
    "cities_chart_df.isnull().sum()"
   ],
   "metadata": {
    "collapsed": false,
    "ExecuteTime": {
     "end_time": "2024-05-09T07:15:19.697021Z",
     "start_time": "2024-05-09T07:15:19.692327Z"
    }
   },
   "execution_count": 30
  },
  {
   "cell_type": "code",
   "outputs": [],
   "source": [
    "# Check for duplicate rows\n",
    "duplicates = cities_chart_df.duplicated()"
   ],
   "metadata": {
    "collapsed": false,
    "ExecuteTime": {
     "end_time": "2024-05-09T07:15:24.041805Z",
     "start_time": "2024-05-09T07:15:24.038504Z"
    }
   },
   "execution_count": 31
  },
  {
   "cell_type": "code",
   "outputs": [
    {
     "name": "stdout",
     "output_type": "stream",
     "text": [
      "Empty DataFrame\n",
      "Columns: [Date, Cities, City name, Views]\n",
      "Index: []\n"
     ]
    }
   ],
   "source": [
    "# Print the duplicate rows\n",
    "print(cities_chart_df[duplicates])"
   ],
   "metadata": {
    "collapsed": false,
    "ExecuteTime": {
     "end_time": "2024-05-09T07:15:28.102516Z",
     "start_time": "2024-05-09T07:15:28.099292Z"
    }
   },
   "execution_count": 32
  },
  {
   "cell_type": "code",
   "outputs": [
    {
     "name": "stdout",
     "output_type": "stream",
     "text": [
      "Duplicates in Date:\n",
      "            Date                                 Cities   City name  Views\n",
      "1279  2020-06-28  0x168e8fde9837cabf:0x191f55de7e67db40    Khartoum      0\n",
      "1280  2020-06-29  0x168e8fde9837cabf:0x191f55de7e67db40    Khartoum      0\n",
      "1281  2020-06-30  0x168e8fde9837cabf:0x191f55de7e67db40    Khartoum      0\n",
      "1282  2020-07-01  0x168e8fde9837cabf:0x191f55de7e67db40    Khartoum      0\n",
      "1283  2020-07-02  0x168e8fde9837cabf:0x191f55de7e67db40    Khartoum      0\n",
      "...          ...                                    ...         ...    ...\n",
      "6390  2023-12-24  0x487a4d4c5226f5db:0xd9be143804fe6baa  Manchester      0\n",
      "6391  2023-12-25  0x487a4d4c5226f5db:0xd9be143804fe6baa  Manchester      0\n",
      "6392  2023-12-26  0x487a4d4c5226f5db:0xd9be143804fe6baa  Manchester      0\n",
      "6393  2023-12-27  0x487a4d4c5226f5db:0xd9be143804fe6baa  Manchester      0\n",
      "6394  2023-12-28  0x487a4d4c5226f5db:0xd9be143804fe6baa  Manchester      0\n",
      "\n",
      "[5116 rows x 4 columns]\n",
      "Duplicates in Cities:\n",
      "            Date                                 Cities    City name  Views\n",
      "1     2020-06-29  0x164b85cef5ab402d:0x8467b6b037a24d49  Addis Ababa      0\n",
      "2     2020-06-30  0x164b85cef5ab402d:0x8467b6b037a24d49  Addis Ababa      0\n",
      "3     2020-07-01  0x164b85cef5ab402d:0x8467b6b037a24d49  Addis Ababa      0\n",
      "4     2020-07-02  0x164b85cef5ab402d:0x8467b6b037a24d49  Addis Ababa      0\n",
      "5     2020-07-03  0x164b85cef5ab402d:0x8467b6b037a24d49  Addis Ababa      0\n",
      "...          ...                                    ...          ...    ...\n",
      "6390  2023-12-24  0x487a4d4c5226f5db:0xd9be143804fe6baa   Manchester      0\n",
      "6391  2023-12-25  0x487a4d4c5226f5db:0xd9be143804fe6baa   Manchester      0\n",
      "6392  2023-12-26  0x487a4d4c5226f5db:0xd9be143804fe6baa   Manchester      0\n",
      "6393  2023-12-27  0x487a4d4c5226f5db:0xd9be143804fe6baa   Manchester      0\n",
      "6394  2023-12-28  0x487a4d4c5226f5db:0xd9be143804fe6baa   Manchester      0\n",
      "\n",
      "[6390 rows x 4 columns]\n",
      "Duplicates in City name:\n",
      "            Date                                 Cities    City name  Views\n",
      "1     2020-06-29  0x164b85cef5ab402d:0x8467b6b037a24d49  Addis Ababa      0\n",
      "2     2020-06-30  0x164b85cef5ab402d:0x8467b6b037a24d49  Addis Ababa      0\n",
      "3     2020-07-01  0x164b85cef5ab402d:0x8467b6b037a24d49  Addis Ababa      0\n",
      "4     2020-07-02  0x164b85cef5ab402d:0x8467b6b037a24d49  Addis Ababa      0\n",
      "5     2020-07-03  0x164b85cef5ab402d:0x8467b6b037a24d49  Addis Ababa      0\n",
      "...          ...                                    ...          ...    ...\n",
      "6390  2023-12-24  0x487a4d4c5226f5db:0xd9be143804fe6baa   Manchester      0\n",
      "6391  2023-12-25  0x487a4d4c5226f5db:0xd9be143804fe6baa   Manchester      0\n",
      "6392  2023-12-26  0x487a4d4c5226f5db:0xd9be143804fe6baa   Manchester      0\n",
      "6393  2023-12-27  0x487a4d4c5226f5db:0xd9be143804fe6baa   Manchester      0\n",
      "6394  2023-12-28  0x487a4d4c5226f5db:0xd9be143804fe6baa   Manchester      0\n",
      "\n",
      "[6390 rows x 4 columns]\n",
      "Duplicates in Views:\n",
      "            Date                                 Cities    City name  Views\n",
      "1     2020-06-29  0x164b85cef5ab402d:0x8467b6b037a24d49  Addis Ababa      0\n",
      "2     2020-06-30  0x164b85cef5ab402d:0x8467b6b037a24d49  Addis Ababa      0\n",
      "3     2020-07-01  0x164b85cef5ab402d:0x8467b6b037a24d49  Addis Ababa      0\n",
      "4     2020-07-02  0x164b85cef5ab402d:0x8467b6b037a24d49  Addis Ababa      0\n",
      "5     2020-07-03  0x164b85cef5ab402d:0x8467b6b037a24d49  Addis Ababa      0\n",
      "...          ...                                    ...          ...    ...\n",
      "6390  2023-12-24  0x487a4d4c5226f5db:0xd9be143804fe6baa   Manchester      0\n",
      "6391  2023-12-25  0x487a4d4c5226f5db:0xd9be143804fe6baa   Manchester      0\n",
      "6392  2023-12-26  0x487a4d4c5226f5db:0xd9be143804fe6baa   Manchester      0\n",
      "6393  2023-12-27  0x487a4d4c5226f5db:0xd9be143804fe6baa   Manchester      0\n",
      "6394  2023-12-28  0x487a4d4c5226f5db:0xd9be143804fe6baa   Manchester      0\n",
      "\n",
      "[6374 rows x 4 columns]\n"
     ]
    }
   ],
   "source": [
    "# Check duplicated values in each column\n",
    "for column in cities_chart_df.columns:\n",
    "    duplicates = cities_chart_df[column].duplicated()\n",
    "    print(f\"Duplicates in {column}:\")\n",
    "    print(cities_chart_df[duplicates])"
   ],
   "metadata": {
    "collapsed": false,
    "ExecuteTime": {
     "end_time": "2024-05-09T07:15:36.932547Z",
     "start_time": "2024-05-09T07:15:36.918197Z"
    }
   },
   "execution_count": 33
  },
  {
   "cell_type": "code",
   "outputs": [],
   "source": [],
   "metadata": {
    "collapsed": false
   }
  },
  {
   "cell_type": "markdown",
   "source": [
    "# Conclusion from the results of duplicated values\n",
    "-  When we look at the output, we can see the duplicates for each Data field\n",
    "- For repeated Dates, we different City Name that means the City Name and it's identifier which is the Cities is categorical value."
   ],
   "metadata": {
    "collapsed": false
   }
  },
  {
   "cell_type": "code",
   "outputs": [],
   "source": [
    "# Aggregate data by 'Date' and 'City name' and 'Cities'"
   ],
   "metadata": {
    "collapsed": false,
    "ExecuteTime": {
     "end_time": "2024-05-09T07:21:09.815062Z",
     "start_time": "2024-05-09T07:21:09.812814Z"
    }
   },
   "execution_count": 34
  },
  {
   "cell_type": "code",
   "outputs": [],
   "source": [
    "# TODO - Create a separate function for this\n",
    "# TODO - have a separate table for the cities and the city names\n",
    "# Pivot the data\n",
    "cities_chart_pivot_df = cities_chart_df.pivot(index='Date', columns='City name', values='Views')\n",
    "\n",
    "# Reset the index\n",
    "cities_chart_pivot_df.reset_index(inplace=True)"
   ],
   "metadata": {
    "collapsed": false,
    "ExecuteTime": {
     "end_time": "2024-05-09T07:28:02.486016Z",
     "start_time": "2024-05-09T07:28:02.478795Z"
    }
   },
   "execution_count": 55
  },
  {
   "cell_type": "code",
   "outputs": [
    {
     "data": {
      "text/plain": "City name        Date  Addis Ababa  Busan  Khartoum  Manchester  Quezon City\n1274       2023-12-24            0      0         0           0            0\n1275       2023-12-25            0      0         0           0            0\n1276       2023-12-26           15      0         0           0            0\n1277       2023-12-27            0      0         0           0            0\n1278       2023-12-28            0      0         0           0            0",
      "text/html": "<div>\n<style scoped>\n    .dataframe tbody tr th:only-of-type {\n        vertical-align: middle;\n    }\n\n    .dataframe tbody tr th {\n        vertical-align: top;\n    }\n\n    .dataframe thead th {\n        text-align: right;\n    }\n</style>\n<table border=\"1\" class=\"dataframe\">\n  <thead>\n    <tr style=\"text-align: right;\">\n      <th>City name</th>\n      <th>Date</th>\n      <th>Addis Ababa</th>\n      <th>Busan</th>\n      <th>Khartoum</th>\n      <th>Manchester</th>\n      <th>Quezon City</th>\n    </tr>\n  </thead>\n  <tbody>\n    <tr>\n      <th>1274</th>\n      <td>2023-12-24</td>\n      <td>0</td>\n      <td>0</td>\n      <td>0</td>\n      <td>0</td>\n      <td>0</td>\n    </tr>\n    <tr>\n      <th>1275</th>\n      <td>2023-12-25</td>\n      <td>0</td>\n      <td>0</td>\n      <td>0</td>\n      <td>0</td>\n      <td>0</td>\n    </tr>\n    <tr>\n      <th>1276</th>\n      <td>2023-12-26</td>\n      <td>15</td>\n      <td>0</td>\n      <td>0</td>\n      <td>0</td>\n      <td>0</td>\n    </tr>\n    <tr>\n      <th>1277</th>\n      <td>2023-12-27</td>\n      <td>0</td>\n      <td>0</td>\n      <td>0</td>\n      <td>0</td>\n      <td>0</td>\n    </tr>\n    <tr>\n      <th>1278</th>\n      <td>2023-12-28</td>\n      <td>0</td>\n      <td>0</td>\n      <td>0</td>\n      <td>0</td>\n      <td>0</td>\n    </tr>\n  </tbody>\n</table>\n</div>"
     },
     "execution_count": 56,
     "metadata": {},
     "output_type": "execute_result"
    }
   ],
   "source": [
    "cities_chart_pivot_df.tail()"
   ],
   "metadata": {
    "collapsed": false,
    "ExecuteTime": {
     "end_time": "2024-05-09T07:28:02.760696Z",
     "start_time": "2024-05-09T07:28:02.755434Z"
    }
   },
   "execution_count": 56
  },
  {
   "cell_type": "code",
   "outputs": [],
   "source": [
    "# Save the reshaped data to a csv file\n",
    "save_preprocessed_data(cities_chart_pivot_df, '../data/Cities/clean/Chart data.csv')"
   ],
   "metadata": {
    "collapsed": false,
    "ExecuteTime": {
     "end_time": "2024-05-09T07:28:03.099373Z",
     "start_time": "2024-05-09T07:28:03.094985Z"
    }
   },
   "execution_count": 57
  },
  {
   "cell_type": "code",
   "outputs": [
    {
     "name": "stdout",
     "output_type": "stream",
     "text": [
      "<class 'pandas.core.frame.DataFrame'>\n",
      "RangeIndex: 1279 entries, 0 to 1278\n",
      "Data columns (total 6 columns):\n",
      " #   Column       Non-Null Count  Dtype \n",
      "---  ------       --------------  ----- \n",
      " 0   Date         1279 non-null   object\n",
      " 1   Addis Ababa  1279 non-null   int64 \n",
      " 2   Busan        1279 non-null   int64 \n",
      " 3   Khartoum     1279 non-null   int64 \n",
      " 4   Manchester   1279 non-null   int64 \n",
      " 5   Quezon City  1279 non-null   int64 \n",
      "dtypes: int64(5), object(1)\n",
      "memory usage: 60.1+ KB\n"
     ]
    }
   ],
   "source": [
    "cities_chart_pivot_df.info()"
   ],
   "metadata": {
    "collapsed": false,
    "ExecuteTime": {
     "end_time": "2024-05-09T07:28:03.625323Z",
     "start_time": "2024-05-09T07:28:03.619596Z"
    }
   },
   "execution_count": 58
  },
  {
   "cell_type": "code",
   "outputs": [],
   "source": [],
   "metadata": {
    "collapsed": false
   }
  },
  {
   "cell_type": "markdown",
   "source": [
    "# Understand the Content type data"
   ],
   "metadata": {
    "collapsed": false
   }
  },
  {
   "cell_type": "code",
   "outputs": [
    {
     "data": {
      "text/plain": "         Date Content type  Views\n0  2020-06-28        Other      0\n1  2020-06-29        Other      0\n2  2020-06-30        Other      0\n3  2020-07-01        Other      0\n4  2020-07-02        Other      0",
      "text/html": "<div>\n<style scoped>\n    .dataframe tbody tr th:only-of-type {\n        vertical-align: middle;\n    }\n\n    .dataframe tbody tr th {\n        vertical-align: top;\n    }\n\n    .dataframe thead th {\n        text-align: right;\n    }\n</style>\n<table border=\"1\" class=\"dataframe\">\n  <thead>\n    <tr style=\"text-align: right;\">\n      <th></th>\n      <th>Date</th>\n      <th>Content type</th>\n      <th>Views</th>\n    </tr>\n  </thead>\n  <tbody>\n    <tr>\n      <th>0</th>\n      <td>2020-06-28</td>\n      <td>Other</td>\n      <td>0</td>\n    </tr>\n    <tr>\n      <th>1</th>\n      <td>2020-06-29</td>\n      <td>Other</td>\n      <td>0</td>\n    </tr>\n    <tr>\n      <th>2</th>\n      <td>2020-06-30</td>\n      <td>Other</td>\n      <td>0</td>\n    </tr>\n    <tr>\n      <th>3</th>\n      <td>2020-07-01</td>\n      <td>Other</td>\n      <td>0</td>\n    </tr>\n    <tr>\n      <th>4</th>\n      <td>2020-07-02</td>\n      <td>Other</td>\n      <td>0</td>\n    </tr>\n  </tbody>\n</table>\n</div>"
     },
     "execution_count": 59,
     "metadata": {},
     "output_type": "execute_result"
    }
   ],
   "source": [
    "content_chart_df.head()"
   ],
   "metadata": {
    "collapsed": false,
    "ExecuteTime": {
     "end_time": "2024-05-09T07:28:21.973640Z",
     "start_time": "2024-05-09T07:28:21.968633Z"
    }
   },
   "execution_count": 59
  },
  {
   "cell_type": "code",
   "outputs": [
    {
     "data": {
      "text/plain": "Date            0\nContent type    0\nViews           0\ndtype: int64"
     },
     "execution_count": 60,
     "metadata": {},
     "output_type": "execute_result"
    }
   ],
   "source": [
    "# Check for missing values\n",
    "content_chart_df.isnull().sum()"
   ],
   "metadata": {
    "collapsed": false,
    "ExecuteTime": {
     "end_time": "2024-05-09T07:28:35.144167Z",
     "start_time": "2024-05-09T07:28:35.138909Z"
    }
   },
   "execution_count": 60
  },
  {
   "cell_type": "code",
   "outputs": [],
   "source": [
    "# Check for duplicate rows\n",
    "duplicates = content_chart_df.duplicated()"
   ],
   "metadata": {
    "collapsed": false,
    "ExecuteTime": {
     "end_time": "2024-05-09T07:28:39.131975Z",
     "start_time": "2024-05-09T07:28:39.129029Z"
    }
   },
   "execution_count": 61
  },
  {
   "cell_type": "code",
   "outputs": [
    {
     "name": "stdout",
     "output_type": "stream",
     "text": [
      "Empty DataFrame\n",
      "Columns: [Date, Content type, Views]\n",
      "Index: []\n"
     ]
    }
   ],
   "source": [
    "# Print the duplicate rows\n",
    "print(content_chart_df[duplicates])"
   ],
   "metadata": {
    "collapsed": false,
    "ExecuteTime": {
     "end_time": "2024-05-09T07:28:42.717770Z",
     "start_time": "2024-05-09T07:28:42.714877Z"
    }
   },
   "execution_count": 62
  },
  {
   "cell_type": "code",
   "outputs": [
    {
     "name": "stdout",
     "output_type": "stream",
     "text": [
      "Duplicates in Date:\n",
      "            Date Content type  Views\n",
      "1279  2020-06-28       Videos      1\n",
      "1280  2020-06-29       Videos     72\n",
      "1281  2020-06-30       Videos     76\n",
      "1282  2020-07-01       Videos     70\n",
      "1283  2020-07-02       Videos     57\n",
      "...          ...          ...    ...\n",
      "2553  2023-12-24       Videos     36\n",
      "2554  2023-12-25       Videos     33\n",
      "2555  2023-12-26       Videos     57\n",
      "2556  2023-12-27       Videos      8\n",
      "2557  2023-12-28       Videos     25\n",
      "\n",
      "[1279 rows x 3 columns]\n",
      "Duplicates in Content type:\n",
      "            Date Content type  Views\n",
      "1     2020-06-29        Other      0\n",
      "2     2020-06-30        Other      0\n",
      "3     2020-07-01        Other      0\n",
      "4     2020-07-02        Other      0\n",
      "5     2020-07-03        Other      0\n",
      "...          ...          ...    ...\n",
      "2553  2023-12-24       Videos     36\n",
      "2554  2023-12-25       Videos     33\n",
      "2555  2023-12-26       Videos     57\n",
      "2556  2023-12-27       Videos      8\n",
      "2557  2023-12-28       Videos     25\n",
      "\n",
      "[2556 rows x 3 columns]\n",
      "Duplicates in Views:\n",
      "            Date Content type  Views\n",
      "1     2020-06-29        Other      0\n",
      "2     2020-06-30        Other      0\n",
      "3     2020-07-01        Other      0\n",
      "4     2020-07-02        Other      0\n",
      "5     2020-07-03        Other      0\n",
      "...          ...          ...    ...\n",
      "2553  2023-12-24       Videos     36\n",
      "2554  2023-12-25       Videos     33\n",
      "2555  2023-12-26       Videos     57\n",
      "2556  2023-12-27       Videos      8\n",
      "2557  2023-12-28       Videos     25\n",
      "\n",
      "[2428 rows x 3 columns]\n"
     ]
    }
   ],
   "source": [
    "# Check duplicated values in each column\n",
    "for column in content_chart_df.columns:\n",
    "    duplicates = content_chart_df[column].duplicated()\n",
    "    print(f\"Duplicates in {column}:\")\n",
    "    print(content_chart_df[duplicates])"
   ],
   "metadata": {
    "collapsed": false,
    "ExecuteTime": {
     "end_time": "2024-05-09T07:28:47.069431Z",
     "start_time": "2024-05-09T07:28:47.060786Z"
    }
   },
   "execution_count": 63
  },
  {
   "cell_type": "markdown",
   "source": [
    "### Aggregate data by 'Date' and 'Content type'"
   ],
   "metadata": {
    "collapsed": false
   }
  },
  {
   "cell_type": "code",
   "outputs": [],
   "source": [
    "# Pivot the data\n",
    "content_chart_pivot_df = content_chart_df.pivot(index='Date', columns='Content type', values='Views')\n",
    "\n",
    "# Reset the index\n",
    "content_chart_pivot_df.reset_index(inplace=True)"
   ],
   "metadata": {
    "collapsed": false,
    "ExecuteTime": {
     "end_time": "2024-05-09T07:29:23.370150Z",
     "start_time": "2024-05-09T07:29:23.364812Z"
    }
   },
   "execution_count": 64
  },
  {
   "cell_type": "code",
   "outputs": [
    {
     "data": {
      "text/plain": "Content type        Date  Other  Videos\n1274          2023-12-24      0      36\n1275          2023-12-25      0      33\n1276          2023-12-26      0      57\n1277          2023-12-27      0       8\n1278          2023-12-28      0      25",
      "text/html": "<div>\n<style scoped>\n    .dataframe tbody tr th:only-of-type {\n        vertical-align: middle;\n    }\n\n    .dataframe tbody tr th {\n        vertical-align: top;\n    }\n\n    .dataframe thead th {\n        text-align: right;\n    }\n</style>\n<table border=\"1\" class=\"dataframe\">\n  <thead>\n    <tr style=\"text-align: right;\">\n      <th>Content type</th>\n      <th>Date</th>\n      <th>Other</th>\n      <th>Videos</th>\n    </tr>\n  </thead>\n  <tbody>\n    <tr>\n      <th>1274</th>\n      <td>2023-12-24</td>\n      <td>0</td>\n      <td>36</td>\n    </tr>\n    <tr>\n      <th>1275</th>\n      <td>2023-12-25</td>\n      <td>0</td>\n      <td>33</td>\n    </tr>\n    <tr>\n      <th>1276</th>\n      <td>2023-12-26</td>\n      <td>0</td>\n      <td>57</td>\n    </tr>\n    <tr>\n      <th>1277</th>\n      <td>2023-12-27</td>\n      <td>0</td>\n      <td>8</td>\n    </tr>\n    <tr>\n      <th>1278</th>\n      <td>2023-12-28</td>\n      <td>0</td>\n      <td>25</td>\n    </tr>\n  </tbody>\n</table>\n</div>"
     },
     "execution_count": 65,
     "metadata": {},
     "output_type": "execute_result"
    }
   ],
   "source": [
    "content_chart_pivot_df.tail()"
   ],
   "metadata": {
    "collapsed": false,
    "ExecuteTime": {
     "end_time": "2024-05-09T07:29:28.658210Z",
     "start_time": "2024-05-09T07:29:28.653443Z"
    }
   },
   "execution_count": 65
  },
  {
   "cell_type": "code",
   "outputs": [],
   "source": [
    "# Save the reshaped data to a csv file\n",
    "save_preprocessed_data(content_chart_pivot_df, '../data/Content type/clean/Chart data.csv')"
   ],
   "metadata": {
    "collapsed": false,
    "ExecuteTime": {
     "end_time": "2024-05-09T07:29:35.305527Z",
     "start_time": "2024-05-09T07:29:35.301580Z"
    }
   },
   "execution_count": 66
  },
  {
   "cell_type": "code",
   "outputs": [
    {
     "name": "stdout",
     "output_type": "stream",
     "text": [
      "<class 'pandas.core.frame.DataFrame'>\n",
      "RangeIndex: 1279 entries, 0 to 1278\n",
      "Data columns (total 3 columns):\n",
      " #   Column  Non-Null Count  Dtype \n",
      "---  ------  --------------  ----- \n",
      " 0   Date    1279 non-null   object\n",
      " 1   Other   1279 non-null   int64 \n",
      " 2   Videos  1279 non-null   int64 \n",
      "dtypes: int64(2), object(1)\n",
      "memory usage: 30.1+ KB\n"
     ]
    }
   ],
   "source": [
    "content_chart_pivot_df.info()"
   ],
   "metadata": {
    "collapsed": false,
    "ExecuteTime": {
     "end_time": "2024-05-09T07:29:37.282631Z",
     "start_time": "2024-05-09T07:29:37.277356Z"
    }
   },
   "execution_count": 67
  },
  {
   "cell_type": "code",
   "outputs": [],
   "source": [],
   "metadata": {
    "collapsed": false
   }
  }
 ]
}
