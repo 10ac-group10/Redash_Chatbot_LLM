{
 "cells": [
  {
   "cell_type": "code",
   "outputs": [],
   "source": [
    "import pandas as pd"
   ],
   "metadata": {
    "collapsed": false,
    "ExecuteTime": {
     "end_time": "2024-05-15T16:28:45.794597Z",
     "start_time": "2024-05-15T16:28:45.345420Z"
    }
   },
   "id": "e80434dcdd77a3ce",
   "execution_count": 1
  },
  {
   "cell_type": "code",
   "outputs": [],
   "source": [
    "# Load the data\n",
    "dfdata = pd.read_csv('../../data/Device type/Chart data.csv')"
   ],
   "metadata": {
    "collapsed": false,
    "ExecuteTime": {
     "end_time": "2024-05-15T16:29:18.055756Z",
     "start_time": "2024-05-15T16:29:18.045593Z"
    }
   },
   "id": "8219526a5dd97ff6",
   "execution_count": 3
  },
  {
   "cell_type": "code",
   "outputs": [
    {
     "data": {
      "text/plain": "         Date Device type  Views\n0  2020-06-28    Computer      1\n1  2020-06-29    Computer     49\n2  2020-06-30    Computer     62\n3  2020-07-01    Computer     46\n4  2020-07-02    Computer     29",
      "text/html": "<div>\n<style scoped>\n    .dataframe tbody tr th:only-of-type {\n        vertical-align: middle;\n    }\n\n    .dataframe tbody tr th {\n        vertical-align: top;\n    }\n\n    .dataframe thead th {\n        text-align: right;\n    }\n</style>\n<table border=\"1\" class=\"dataframe\">\n  <thead>\n    <tr style=\"text-align: right;\">\n      <th></th>\n      <th>Date</th>\n      <th>Device type</th>\n      <th>Views</th>\n    </tr>\n  </thead>\n  <tbody>\n    <tr>\n      <th>0</th>\n      <td>2020-06-28</td>\n      <td>Computer</td>\n      <td>1</td>\n    </tr>\n    <tr>\n      <th>1</th>\n      <td>2020-06-29</td>\n      <td>Computer</td>\n      <td>49</td>\n    </tr>\n    <tr>\n      <th>2</th>\n      <td>2020-06-30</td>\n      <td>Computer</td>\n      <td>62</td>\n    </tr>\n    <tr>\n      <th>3</th>\n      <td>2020-07-01</td>\n      <td>Computer</td>\n      <td>46</td>\n    </tr>\n    <tr>\n      <th>4</th>\n      <td>2020-07-02</td>\n      <td>Computer</td>\n      <td>29</td>\n    </tr>\n  </tbody>\n</table>\n</div>"
     },
     "execution_count": 4,
     "metadata": {},
     "output_type": "execute_result"
    }
   ],
   "source": [
    "# Display the first few rows of the data\n",
    "dfdata.head()"
   ],
   "metadata": {
    "collapsed": false,
    "ExecuteTime": {
     "end_time": "2024-05-15T16:29:19.809292Z",
     "start_time": "2024-05-15T16:29:19.751479Z"
    }
   },
   "id": "c0df53c1d6546ab",
   "execution_count": 4
  },
  {
   "cell_type": "code",
   "outputs": [
    {
     "data": {
      "text/plain": "            Date Device type  Views\n5111  2023-12-24      Tablet      0\n5112  2023-12-25      Tablet      0\n5113  2023-12-26      Tablet      0\n5114  2023-12-27      Tablet      0\n5115  2023-12-28      Tablet      0",
      "text/html": "<div>\n<style scoped>\n    .dataframe tbody tr th:only-of-type {\n        vertical-align: middle;\n    }\n\n    .dataframe tbody tr th {\n        vertical-align: top;\n    }\n\n    .dataframe thead th {\n        text-align: right;\n    }\n</style>\n<table border=\"1\" class=\"dataframe\">\n  <thead>\n    <tr style=\"text-align: right;\">\n      <th></th>\n      <th>Date</th>\n      <th>Device type</th>\n      <th>Views</th>\n    </tr>\n  </thead>\n  <tbody>\n    <tr>\n      <th>5111</th>\n      <td>2023-12-24</td>\n      <td>Tablet</td>\n      <td>0</td>\n    </tr>\n    <tr>\n      <th>5112</th>\n      <td>2023-12-25</td>\n      <td>Tablet</td>\n      <td>0</td>\n    </tr>\n    <tr>\n      <th>5113</th>\n      <td>2023-12-26</td>\n      <td>Tablet</td>\n      <td>0</td>\n    </tr>\n    <tr>\n      <th>5114</th>\n      <td>2023-12-27</td>\n      <td>Tablet</td>\n      <td>0</td>\n    </tr>\n    <tr>\n      <th>5115</th>\n      <td>2023-12-28</td>\n      <td>Tablet</td>\n      <td>0</td>\n    </tr>\n  </tbody>\n</table>\n</div>"
     },
     "execution_count": 5,
     "metadata": {},
     "output_type": "execute_result"
    }
   ],
   "source": [
    "# Display the last few rows of the data\n",
    "dfdata.tail()"
   ],
   "metadata": {
    "collapsed": false,
    "ExecuteTime": {
     "end_time": "2024-05-15T16:29:19.919945Z",
     "start_time": "2024-05-15T16:29:19.901644Z"
    }
   },
   "id": "c19ff4410dfaed49",
   "execution_count": 5
  },
  {
   "cell_type": "code",
   "outputs": [],
   "source": [
    "# Display the shape of the data"
   ],
   "metadata": {
    "collapsed": false,
    "ExecuteTime": {
     "end_time": "2024-05-15T16:29:20.421365Z",
     "start_time": "2024-05-15T16:29:20.410705Z"
    }
   },
   "id": "6f2e2c2a9618128b",
   "execution_count": 6
  },
  {
   "cell_type": "code",
   "outputs": [
    {
     "data": {
      "text/plain": "(5116, 3)"
     },
     "execution_count": 7,
     "metadata": {},
     "output_type": "execute_result"
    }
   ],
   "source": [
    "dfdata.shape"
   ],
   "metadata": {
    "collapsed": false,
    "ExecuteTime": {
     "end_time": "2024-05-15T16:29:20.604303Z",
     "start_time": "2024-05-15T16:29:20.596944Z"
    }
   },
   "id": "d5651d019f50cbe0",
   "execution_count": 7
  },
  {
   "cell_type": "code",
   "outputs": [
    {
     "data": {
      "text/plain": "Index(['Date', 'Device type', 'Views'], dtype='object')"
     },
     "execution_count": 8,
     "metadata": {},
     "output_type": "execute_result"
    }
   ],
   "source": [
    "# Display the columns of the data\n",
    "dfdata.columns"
   ],
   "metadata": {
    "collapsed": false,
    "ExecuteTime": {
     "end_time": "2024-05-15T16:29:20.699156Z",
     "start_time": "2024-05-15T16:29:20.680851Z"
    }
   },
   "id": "6ef276305e6c54c1",
   "execution_count": 8
  },
  {
   "cell_type": "code",
   "outputs": [
    {
     "data": {
      "text/plain": "Date           object\nDevice type    object\nViews           int64\ndtype: object"
     },
     "execution_count": 9,
     "metadata": {},
     "output_type": "execute_result"
    }
   ],
   "source": [
    "# Display the data types of the columns\n",
    "dfdata.dtypes"
   ],
   "metadata": {
    "collapsed": false,
    "ExecuteTime": {
     "end_time": "2024-05-15T16:29:20.810197Z",
     "start_time": "2024-05-15T16:29:20.798758Z"
    }
   },
   "id": "9afcf311185dbabb",
   "execution_count": 9
  },
  {
   "cell_type": "code",
   "outputs": [
    {
     "data": {
      "text/plain": "             Views\ncount  5116.000000\nmean      5.187842\nstd      16.344307\nmin       0.000000\n25%       0.000000\n50%       0.000000\n75%       3.000000\nmax     351.000000",
      "text/html": "<div>\n<style scoped>\n    .dataframe tbody tr th:only-of-type {\n        vertical-align: middle;\n    }\n\n    .dataframe tbody tr th {\n        vertical-align: top;\n    }\n\n    .dataframe thead th {\n        text-align: right;\n    }\n</style>\n<table border=\"1\" class=\"dataframe\">\n  <thead>\n    <tr style=\"text-align: right;\">\n      <th></th>\n      <th>Views</th>\n    </tr>\n  </thead>\n  <tbody>\n    <tr>\n      <th>count</th>\n      <td>5116.000000</td>\n    </tr>\n    <tr>\n      <th>mean</th>\n      <td>5.187842</td>\n    </tr>\n    <tr>\n      <th>std</th>\n      <td>16.344307</td>\n    </tr>\n    <tr>\n      <th>min</th>\n      <td>0.000000</td>\n    </tr>\n    <tr>\n      <th>25%</th>\n      <td>0.000000</td>\n    </tr>\n    <tr>\n      <th>50%</th>\n      <td>0.000000</td>\n    </tr>\n    <tr>\n      <th>75%</th>\n      <td>3.000000</td>\n    </tr>\n    <tr>\n      <th>max</th>\n      <td>351.000000</td>\n    </tr>\n  </tbody>\n</table>\n</div>"
     },
     "execution_count": 10,
     "metadata": {},
     "output_type": "execute_result"
    }
   ],
   "source": [
    "# Display the summary statistics of the data\n",
    "dfdata.describe()"
   ],
   "metadata": {
    "collapsed": false,
    "ExecuteTime": {
     "end_time": "2024-05-15T16:29:20.944479Z",
     "start_time": "2024-05-15T16:29:20.927236Z"
    }
   },
   "id": "2fe7d32be3de0044",
   "execution_count": 10
  },
  {
   "cell_type": "code",
   "outputs": [
    {
     "data": {
      "text/plain": "Date           0\nDevice type    0\nViews          0\ndtype: int64"
     },
     "execution_count": 11,
     "metadata": {},
     "output_type": "execute_result"
    }
   ],
   "source": [
    "# Display the missing values of the data\n",
    "dfdata.isnull().sum()"
   ],
   "metadata": {
    "collapsed": false,
    "ExecuteTime": {
     "end_time": "2024-05-15T16:29:21.046201Z",
     "start_time": "2024-05-15T16:29:21.036268Z"
    }
   },
   "id": "da781ac5bef9f937",
   "execution_count": 11
  },
  {
   "cell_type": "code",
   "outputs": [
    {
     "data": {
      "text/plain": "Date           1279\nDevice type       4\nViews           111\ndtype: int64"
     },
     "execution_count": 12,
     "metadata": {},
     "output_type": "execute_result"
    }
   ],
   "source": [
    "# Display the unique values of the columns\n",
    "dfdata.nunique()"
   ],
   "metadata": {
    "collapsed": false,
    "ExecuteTime": {
     "end_time": "2024-05-15T16:29:21.311989Z",
     "start_time": "2024-05-15T16:29:21.297951Z"
    }
   },
   "id": "e9ed9b1f92b27bb1",
   "execution_count": 12
  }
 ],
 "metadata": {
  "kernelspec": {
   "display_name": "Python 3",
   "language": "python",
   "name": "python3"
  },
  "language_info": {
   "codemirror_mode": {
    "name": "ipython",
    "version": 2
   },
   "file_extension": ".py",
   "mimetype": "text/x-python",
   "name": "python",
   "nbconvert_exporter": "python",
   "pygments_lexer": "ipython2",
   "version": "2.7.6"
  }
 },
 "nbformat": 4,
 "nbformat_minor": 5
}
